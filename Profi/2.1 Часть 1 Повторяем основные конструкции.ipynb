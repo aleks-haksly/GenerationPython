{
  "nbformat": 4,
  "nbformat_minor": 0,
  "metadata": {
    "colab": {
      "provenance": [],
      "authorship_tag": "ABX9TyNuWiuOICj+8cpOo+MjfmkR",
      "include_colab_link": true
    },
    "kernelspec": {
      "name": "python3",
      "display_name": "Python 3"
    },
    "language_info": {
      "name": "python"
    }
  },
  "cells": [
    {
      "cell_type": "markdown",
      "metadata": {
        "id": "view-in-github",
        "colab_type": "text"
      },
      "source": [
        "<a href=\"https://colab.research.google.com/github/aleks-haksly/GenerationPython/blob/main/Profi/2.1%20%D0%A7%D0%B0%D1%81%D1%82%D1%8C%201%20%D0%9F%D0%BE%D0%B2%D1%82%D0%BE%D1%80%D1%8F%D0%B5%D0%BC%20%D0%BE%D1%81%D0%BD%D0%BE%D0%B2%D0%BD%D1%8B%D0%B5%20%D0%BA%D0%BE%D0%BD%D1%81%D1%82%D1%80%D1%83%D0%BA%D1%86%D0%B8%D0%B8.ipynb\" target=\"_parent\"><img src=\"https://colab.research.google.com/assets/colab-badge.svg\" alt=\"Open In Colab\"/></a>"
      ]
    },
    {
      "cell_type": "markdown",
      "source": [
        "https://stepik.org/lesson/569748/step/5?unit=564262\n",
        "\n",
        "## Функция hide_card()\n",
        "\n",
        "Реализуйте функцию `hide_card()`, которая принимает один аргумент:\n",
        "\n",
        "`card_number` — строка, представляющая собой корректный номер банковской карты из 16 цифр, между которыми могут присутствовать символы пробела\n",
        "Функция должна заменять первые\n",
        "12 цифр в строке card_number на символ * и возвращать полученный результат. Если между цифрами в номере имелись символы пробела, их следует удалить."
      ],
      "metadata": {
        "id": "Cl_igHbvuZ_i"
      }
    },
    {
      "cell_type": "code",
      "execution_count": 1,
      "metadata": {
        "id": "5pGR6HrbptQ9"
      },
      "outputs": [],
      "source": [
        "def hide_card(card:str) -> str:\n",
        "    card = card.replace(' ','')\n",
        "    return '*'*12+card[-4:]"
      ]
    },
    {
      "cell_type": "markdown",
      "source": [
        "https://stepik.org/lesson/569748/step/6?unit=564262\n",
        "\n",
        "## Функция same_parity()\n",
        "Реализуйте функцию `same_parity()`, которая принимает один аргумент:\n",
        "\n",
        "numbers — список целых чисел\n",
        "Функция должна возвращать новый список, элементами которого являются числа из списка numbers, имеющие ту же четность, что и первый элемент этого списка.\n",
        "\n",
        "Примечание 1. Числа в возвращаемом функцией списке должны располагаться в своем исходном порядке."
      ],
      "metadata": {
        "id": "7TPIKenNu5qk"
      }
    },
    {
      "cell_type": "code",
      "source": [
        "def same_parity(lst:list)->list:\n",
        "    if not lst:\n",
        "        return []\n",
        "    return list(filter(lambda x: x % 2 == lst[0] % 2, lst))"
      ],
      "metadata": {
        "id": "9XO9E--Yu0Xs"
      },
      "execution_count": null,
      "outputs": []
    },
    {
      "cell_type": "markdown",
      "source": [
        "https://stepik.org/lesson/569748/step/7?unit=564262\n",
        "\n",
        "## Функция is_valid()\n",
        "Будем считать, что PIN-код является корректным, если он удовлетворяет следующим условиям:\n",
        "\n",
        "* состоит из 4-6  символов\n",
        "* состоит только из цифр (0−9)\n",
        "* не содержит пробелов\n",
        "Реализуйте функцию is_valid(), которая принимает один аргумент:\n",
        "\n",
        "* string — произвольная строка\n",
        "Функция должна возвращать значение True, если строка string представляет собой корректный PIN-код, или False в противном случае.\n",
        "\n",
        "Примечание 1. Если в функцию передается пустая строка, функция должна возвращать значение False."
      ],
      "metadata": {
        "id": "tHDjYSf9veGm"
      }
    },
    {
      "cell_type": "code",
      "source": [
        "import re\n",
        "def is_valid(pin):\n",
        "    m = re.match('^[\\d]{4,6}$', pin)\n",
        "    return bool(m)"
      ],
      "metadata": {
        "id": "h5faFh__vzCb"
      },
      "execution_count": 2,
      "outputs": []
    },
    {
      "cell_type": "markdown",
      "source": [
        "https://stepik.org/lesson/569748/step/8?unit=564262\n",
        "\n",
        "## Функция print_given()\n",
        "Реализуйте функцию `print_given()`, которая принимает произвольное количество позиционных и именованных аргументов и выводит все переданные аргументы, указывая тип каждого. Пары аргумент-тип должны выводиться каждая на отдельной строке, в следующем формате:\n",
        "\n",
        "* для позиционных аргументов:\n",
        "<значение аргумента> <тип аргумента>\n",
        "* для именованных аргументов:\n",
        "<имя переменной> <значение аргумента> <тип аргумента>\n",
        "\n",
        "Примечание 1. При выводе позиционные аргументы должны быть расположены в порядке их передачи, именованные — в лексикографическом порядке имен переменных.\n",
        "\n",
        "Примечание 2. При выводе сначала должны следовать все позиционные аргументы, затем — все именованные."
      ],
      "metadata": {
        "id": "LQdBnG1av8ZB"
      }
    },
    {
      "cell_type": "code",
      "source": [
        "def print_given(*args, **kwargs):\n",
        "    for a in args:\n",
        "        print(a, type(a))\n",
        "    for k, v in sorted(kwargs.items()):\n",
        "        print(k, v, type(v))"
      ],
      "metadata": {
        "id": "kWDYFZZAvzU2"
      },
      "execution_count": 3,
      "outputs": []
    },
    {
      "cell_type": "markdown",
      "source": [
        "https://stepik.org/lesson/569748/step/9?unit=564262\n",
        "\n",
        "## Функция convert()\n",
        "Реализуйте функцию `convert()`, которая принимает один аргумент:\n",
        "\n",
        "string — произвольная строка\n",
        "Функция должна возвращать строку string:\n",
        "\n",
        "* полностью в нижнем регистре, если букв в нижнем регистре в этой строке больше\n",
        "* полностью в верхнем регистре, если букв в верхнем регистре в этой строке больше\n",
        "* полностью в нижнем регистре, если количество букв в верхнем и нижнем регистрах в этой строке совпадает\n",
        "\n",
        "Примечание 1. Символы строки, не являющиеся буквами, следует игнорировать."
      ],
      "metadata": {
        "id": "MTYacU2uwOJg"
      }
    },
    {
      "cell_type": "code",
      "source": [
        "def convert(string: str) ->str:\n",
        "    counter = 0\n",
        "    for ch in string:\n",
        "        if ch.isalpha():\n",
        "            if ch.isupper(): counter += 1\n",
        "            else: counter -= 1\n",
        "    if counter <= 0:\n",
        "        return string.lower()\n",
        "    else: return string.upper()"
      ],
      "metadata": {
        "id": "Vy7KKr_Fwqml"
      },
      "execution_count": 4,
      "outputs": []
    },
    {
      "cell_type": "markdown",
      "source": [
        "https://stepik.org/lesson/569748/step/10?unit=564262\n",
        "\n",
        "## Функция filter_anagrams()\n",
        "Анаграммы — это слова, которые состоят из одинаковых букв. Например:\n",
        "\n",
        "* адаптер — петарда\n",
        "* адресочек — середочка\n",
        "* азбука — базука\n",
        "* аистенок — осетинка\n",
        "\n",
        "Реализуйте функцию `filter_anagrams()`, которая принимает два аргумента в следующем порядке:\n",
        "\n",
        "* word — слово в нижнем регистре\n",
        "* words — список слов в нижнем регистре\n",
        "\n",
        "Функция должна возвращать список, элементами которого являются слова из списка words, которые представляют анаграмму слова word. Если список words пуст или не содержит анаграмм, функция должна вернуть пустой список.\n",
        "\n",
        "Примечание 1. Слова в возвращаемом функцией списке должны располагаться в своем исходном порядке."
      ],
      "metadata": {
        "id": "DmlP5wslwxYj"
      }
    },
    {
      "cell_type": "code",
      "source": [
        "def filter_anagrams(word, words):\n",
        "    word = sorted(word)\n",
        "    return list(filter(lambda x: sorted(x) == word, words))"
      ],
      "metadata": {
        "id": "99GCsbo_wq-8"
      },
      "execution_count": 5,
      "outputs": []
    },
    {
      "cell_type": "markdown",
      "source": [
        "https://stepik.org/lesson/569748/step/11?unit=564262\n",
        "\n",
        "## Функция likes()\n",
        "В различных социальных сетях существуют системы лайков, которые в зависимости от количества людей, оценивших запись, показывают соответствующую информацию.\n",
        "\n",
        "Реализуйте функцию `likes()`, которая принимает один аргумент:\n",
        "\n",
        "* names — список имён\n",
        "\n",
        "Функция должна возвращать строку в соответствии с примерами ниже, содержание которой зависит от количества имён в списке names.\n",
        "\n",
        "Приведенный ниже код:\n",
        "\n",
        "```python\n",
        "print(likes([]))\n",
        "print(likes(['Тимур']))\n",
        "print(likes(['Тимур', 'Артур']))\n",
        "print(likes(['Тимур', 'Артур', 'Руслан']))\n",
        "print(likes(['Тимур', 'Артур', 'Руслан', 'Анри']))\n",
        "print(likes(['Тимур', 'Артур', 'Руслан', 'Анри', 'Дима']))\n",
        "print(likes(['Тимур', 'Артур', 'Руслан', 'Анри', 'Дима', 'Рома', 'Гвидо', 'Марк']))\n",
        "```\n",
        "\n",
        "должен выводить:\n",
        "\n",
        "Никто не оценил данную запись\n",
        "\n",
        "Тимур оценил(а) данную запись\n",
        "\n",
        "Тимур и Артур оценили данную запись\n",
        "\n",
        "Тимур, Артур и Руслан оценили данную запись\n",
        "\n",
        "Тимур, Артур и 2 других оценили данную запись\n",
        "\n",
        "Тимур, Артур и 3 других оценили данную запись\n",
        "\n",
        "Тимур, Артур и 6 других оценили данную запись\n",
        "\n",
        "Примечание 1. Имена в формируемой и возвращаемой функцией строке должны располагаться в своем исходном порядке.\n",
        "\n",
        "Примечание 2. Обратите внимание, что если в передаваемом в функцию списке более трех имен, то явно указываются лишь первые два из них."
      ],
      "metadata": {
        "id": "ei7SBNEmxDNq"
      }
    },
    {
      "cell_type": "code",
      "source": [
        "def likes(lst):\n",
        "    match len(lst):\n",
        "        case 0:\n",
        "            return 'Никто не оценил данную запись'\n",
        "        case 1:\n",
        "            return '{0} оценил(а) данную запись'.format(*lst)\n",
        "        case 2:\n",
        "            return '{0} и {1} оценили данную запись'.format(*lst)\n",
        "        case 3:\n",
        "            return '{0}, {1} и {2} оценили данную запись'.format(*lst)\n",
        "        case _:\n",
        "            return '{0}, {1} и {2} других оценили данную запись'.format(*lst[:2], len(lst)-2)"
      ],
      "metadata": {
        "id": "2Hg826Olw_gC"
      },
      "execution_count": 6,
      "outputs": []
    },
    {
      "cell_type": "markdown",
      "source": [
        "https://stepik.org/lesson/569748/step/12?unit=564262\n",
        "\n",
        "Функция index_of_nearest()\n",
        "Реализуйте функцию index_of_nearest(), которая принимает два аргумента в следующем порядке:\n",
        "\n",
        "* numbers — список целых чисел\n",
        "* number — целое число\n",
        "\n",
        "Функция должна находить в списке numbers ближайшее по значению число к числу number и возвращать его индекс. Если список numbers пуст, функция должна вернуть число −1\n",
        "\n",
        "Примечание 1. Если в функцию передается список, содержащий несколько чисел, одновременно являющихся ближайшими к искомому числу, функция должна возвращать наименьший из индексов ближайших чисел.\n",
        "\n",
        "Примечание 2. Рассмотрим третий тест. Ближайшими числами к числу\n",
        "\n",
        "4 являются 5 и 3, имеющие индексы 1 и 2 соответственно. Наименьший из индексов равен 1."
      ],
      "metadata": {
        "id": "CA7VzXp1x2X3"
      }
    },
    {
      "cell_type": "code",
      "source": [
        "def index_of_nearest(lst, num):\n",
        "    if not lst: return -1\n",
        "    l = [abs(i - num) for i in lst]\n",
        "    return l.index(min(l))"
      ],
      "metadata": {
        "id": "_I1xL1zuyX8Y"
      },
      "execution_count": 7,
      "outputs": []
    },
    {
      "cell_type": "markdown",
      "source": [
        "https://stepik.org/lesson/569748/step/13?unit=564262\n",
        "\n",
        "## Функция spell()\n",
        "Реализуйте функцию `spell()`, которая принимает произвольное количество позиционных аргументов-слов и возвращает словарь, ключи которого — первые буквы слов, а значения — максимальные длины слов на эту букву.\n",
        "\n",
        "Примечание 1. Если в функцию не передается ни одного аргумента, функция должна возвращать пустой словарь.\n",
        "\n",
        "Примечание 2. Функция должна игнорировать регистр слов, при этом в результирующий словарь должны попасть именно буквы в нижнем регистре."
      ],
      "metadata": {
        "id": "6_T4C70KygI-"
      }
    },
    {
      "cell_type": "code",
      "source": [
        "def spell(*args):\n",
        "    if not args:\n",
        "        return dict()\n",
        "    res = dict()\n",
        "    for item in args:\n",
        "        key = str(item)[0].lower()\n",
        "        res[key] = max(res.get(key, 0), len(item))\n",
        "    return res"
      ],
      "metadata": {
        "id": "ymOsmJpIyahD"
      },
      "execution_count": 8,
      "outputs": []
    },
    {
      "cell_type": "markdown",
      "source": [
        "https://stepik.org/lesson/569748/step/14?unit=564262\n",
        "\n",
        "## Функция choose_plural() 🌶️🌶️\n",
        "Реализуйте функцию choose_plural(), которая принимает два аргумента в следующем порядке:\n",
        "\n",
        "* amount — натуральное число, количество\n",
        "* declensions — кортеж из трех вариантов склонения существительного\n",
        "Функция должна возвращать строку, полученную путем объединения подходящего существительного из кортежа `declensions` и количества `amount`, в следующем формате:\n",
        "\n",
        "<количество> <существительное>\n",
        "\n",
        "Примечание 1. Передаваемый в функцию кортеж легко составить по мнемоническому правилу: один, два, пять.\n",
        "\n",
        "Например:\n",
        "\n",
        "* для слова «арбуз»: арбуз, арбуза, арбузов\n",
        "* для слова «рубль»: рубль, рубля, рублей"
      ],
      "metadata": {
        "id": "Sv2T1WnpyqA7"
      }
    },
    {
      "cell_type": "code",
      "source": [
        "def choose_plural(num, tpl):\n",
        "    l = len(str(num))\n",
        "    if num % 10 == 1 and num - round(num, -2) != 11:\n",
        "        return f'{num} {tpl[0]}'\n",
        "    if num - round(num, -1) in (2, 3, 4) and num - round(num, -2) not in  (12, 13, 14):\n",
        "        return f'{num} {tpl[1]}'\n",
        "    return f'{num} {tpl[2]}'"
      ],
      "metadata": {
        "id": "mj8LGC-BynOH"
      },
      "execution_count": 9,
      "outputs": []
    },
    {
      "cell_type": "markdown",
      "source": [
        "https://stepik.org/lesson/569748/step/15?unit=564262\n",
        "\n",
        "## Функция get_biggest() 🌶️🌶️\n",
        "Реализуйте функцию `get_biggest()`, которая принимает один аргумент:\n",
        "\n",
        "* numbers — список целых неотрицательных чисел\n",
        "\n",
        "Функция должна возвращать наибольшее число, которое можно составить из чисел из списка numbers. Если список numbers пуст, функция должна вернуть число −1.\n",
        "\n",
        "Примечание 1. Рассмотрим первый тест со списком чисел [1, 2, 3], из которых можно составить следующие числа:\n",
        "\n",
        "123,132,213,231,312,321\n",
        "\n",
        "Наибольшим из представленных является 321\n"
      ],
      "metadata": {
        "id": "LQemECKFy8dT"
      }
    },
    {
      "cell_type": "code",
      "source": [
        "def get_biggest(lst):\n",
        "    if not lst: return - 1\n",
        "    lmax = len(str(max(lst)))\n",
        "    lst = list(map(str, lst))\n",
        "    return int(''.join(sorted(lst, reverse = True, key = lambda x: x * lmax)))"
      ],
      "metadata": {
        "id": "hB65c05qy786"
      },
      "execution_count": 10,
      "outputs": []
    },
    {
      "cell_type": "code",
      "source": [],
      "metadata": {
        "id": "HQZduKnYzT3q"
      },
      "execution_count": null,
      "outputs": []
    }
  ]
}