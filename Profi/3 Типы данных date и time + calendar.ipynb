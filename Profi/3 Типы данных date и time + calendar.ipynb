{
  "nbformat": 4,
  "nbformat_minor": 0,
  "metadata": {
    "colab": {
      "provenance": [],
      "authorship_tag": "ABX9TyPMPqJr71iVW7kPiobNi8FD",
      "include_colab_link": true
    },
    "kernelspec": {
      "name": "python3",
      "display_name": "Python 3"
    },
    "language_info": {
      "name": "python"
    }
  },
  "cells": [
    {
      "cell_type": "markdown",
      "metadata": {
        "id": "view-in-github",
        "colab_type": "text"
      },
      "source": [
        "<a href=\"https://colab.research.google.com/github/aleks-haksly/GenerationPython/blob/main/Profi/3%20%D0%A2%D0%B8%D0%BF%D1%8B%20%D0%B4%D0%B0%D0%BD%D0%BD%D1%8B%D1%85%20date%20%D0%B8%20time%20%2B%20calendar.ipynb\" target=\"_parent\"><img src=\"https://colab.research.google.com/assets/colab-badge.svg\" alt=\"Open In Colab\"/></a>"
      ]
    },
    {
      "cell_type": "markdown",
      "source": [
        "# 3.1 Типы данных date и time. Часть 1\n",
        "https://stepik.org/lesson/609341/step/16?unit=604560\n"
      ],
      "metadata": {
        "id": "7hwTkMPF8VZB"
      }
    },
    {
      "cell_type": "code",
      "source": [
        "# импортируем тип date из модуля datetime\n",
        "from datetime import date\n",
        "\n",
        "# выводим текущую дату\n",
        "print(date.today())"
      ],
      "metadata": {
        "id": "zks9waDU8aC0",
        "outputId": "4d76e782-e9ed-447b-e6e8-0039668d0be9",
        "colab": {
          "base_uri": "https://localhost:8080/"
        }
      },
      "execution_count": 1,
      "outputs": [
        {
          "output_type": "stream",
          "name": "stdout",
          "text": [
            "2024-08-04\n"
          ]
        }
      ]
    },
    {
      "cell_type": "markdown",
      "source": [
        "https://stepik.org/lesson/609341/step/17?unit=604560"
      ],
      "metadata": {
        "id": "BlUsq9488qj3"
      }
    },
    {
      "cell_type": "code",
      "source": [
        "# импортируем тип date из модуля datetime\n",
        "from datetime import date\n",
        "\n",
        "# создаем объект, соответсвующий дате урагана\n",
        "hurricane_andrew = date(1992, 8, 24)\n",
        "\n",
        "# выводим день недели\n",
        "print(hurricane_andrew.weekday())"
      ],
      "metadata": {
        "id": "2rQ8QDTk8bBT",
        "outputId": "4b019a6b-8c94-4b34-a19b-e39196a8f78a",
        "colab": {
          "base_uri": "https://localhost:8080/"
        }
      },
      "execution_count": 2,
      "outputs": [
        {
          "output_type": "stream",
          "name": "stdout",
          "text": [
            "0\n"
          ]
        }
      ]
    },
    {
      "cell_type": "markdown",
      "source": [
        "https://stepik.org/lesson/609341/step/18?unit=604560"
      ],
      "metadata": {
        "id": "PsMXlphw8suC"
      }
    },
    {
      "cell_type": "code",
      "source": [
        "# счетчик для нужного количества ураганов\n",
        "early_hurricanes = 0\n",
        "florida_hurricane_dates = []\n",
        "# цикл по датам в которые был ураган\n",
        "for hurricane in florida_hurricane_dates:\n",
        "    # если месяц урагана меньше чем июнь (порядковый номер 6)\n",
        "    if hurricane.month < 6:\n",
        "        early_hurricanes += 1\n",
        "\n",
        "print(early_hurricanes)"
      ],
      "metadata": {
        "id": "Tc_7QHnA8haK",
        "outputId": "04a2ef9b-2b19-4bb8-f3e1-da7384b16819",
        "colab": {
          "base_uri": "https://localhost:8080/"
        }
      },
      "execution_count": 4,
      "outputs": [
        {
          "output_type": "stream",
          "name": "stdout",
          "text": [
            "0\n"
          ]
        }
      ]
    },
    {
      "cell_type": "markdown",
      "source": [
        "https://stepik.org/lesson/609341/step/19?unit=604560"
      ],
      "metadata": {
        "id": "NDIQsjd688Na"
      }
    },
    {
      "cell_type": "code",
      "source": [
        "from datetime import date\n",
        "\n",
        "dates = [date(2010, 9, 28), date(2017, 1, 13), date(2009, 12, 25), date(2010, 2, 27), date(2021, 10, 11), date(2020, 3, 13), date(2000, 7, 7), date(1999, 4, 14), date(1789, 11, 19), date(2013, 8, 21), date(1666, 6, 6), date(1968, 5, 26)]\n",
        "\n",
        "for d in dates:\n",
        "    print(f'{d.year}-Q{(d.month + 2) // 3}')"
      ],
      "metadata": {
        "id": "xSooubgG8vDl",
        "outputId": "24627cd5-d4bd-46a7-a81f-666052b4dfa6",
        "colab": {
          "base_uri": "https://localhost:8080/"
        }
      },
      "execution_count": 5,
      "outputs": [
        {
          "output_type": "stream",
          "name": "stdout",
          "text": [
            "2010-Q3\n",
            "2017-Q1\n",
            "2009-Q4\n",
            "2010-Q1\n",
            "2021-Q4\n",
            "2020-Q1\n",
            "2000-Q3\n",
            "1999-Q2\n",
            "1789-Q4\n",
            "2013-Q3\n",
            "1666-Q2\n",
            "1968-Q2\n"
          ]
        }
      ]
    },
    {
      "cell_type": "markdown",
      "source": [
        "https://stepik.org/lesson/609341/step/20?unit=604560"
      ],
      "metadata": {
        "id": "qMQJ1pBB9B_B"
      }
    },
    {
      "cell_type": "code",
      "source": [
        "from datetime import date\n",
        "def get_min_max(lst):\n",
        "    if lst: return min(lst), max(lst)\n",
        "    return tuple()"
      ],
      "metadata": {
        "id": "TJUlxd498-Hm"
      },
      "execution_count": 6,
      "outputs": []
    },
    {
      "cell_type": "markdown",
      "source": [
        "https://stepik.org/lesson/609341/step/21?unit=604560"
      ],
      "metadata": {
        "id": "Gb_GtEbj9IWo"
      }
    },
    {
      "cell_type": "code",
      "source": [
        "from datetime import date\n",
        "def get_date_range(start, stop):\n",
        "    start = start.toordinal()\n",
        "    stop = stop.toordinal()\n",
        "    return [date.fromordinal(i) for i in range(start, stop + 1)]"
      ],
      "metadata": {
        "id": "417pDwXK9FS2"
      },
      "execution_count": null,
      "outputs": []
    },
    {
      "cell_type": "markdown",
      "source": [
        "https://stepik.org/lesson/609341/step/22?unit=604560"
      ],
      "metadata": {
        "id": "QQEnJcV19MBY"
      }
    },
    {
      "cell_type": "code",
      "source": [
        "from datetime import date\n",
        "def saturdays_between_two_dates(start, stop):\n",
        "    stt = min([start.toordinal(), stop.toordinal()])\n",
        "    stp = max([start.toordinal(), stop.toordinal()])\n",
        "    return sum(1 if date.fromordinal(i).weekday() == 5 else 0 for i in range(stt, stp + 1))"
      ],
      "metadata": {
        "id": "-Vl03iJw9Pxs"
      },
      "execution_count": 7,
      "outputs": []
    },
    {
      "cell_type": "markdown",
      "source": [
        "# 3.2 Типы данных date и time. Часть 2\n",
        "https://stepik.org/lesson/570048/step/5?unit=564591"
      ],
      "metadata": {
        "id": "9-79LpDN9boz"
      }
    },
    {
      "cell_type": "code",
      "source": [
        "from datetime import time\n",
        "\n",
        "alarm = time(7, 30, 25)\n",
        "\n",
        "print('Часы:', alarm.strftime('%H'))\n",
        "print('Минуты:', alarm.strftime('%M'))\n",
        "print('Секунды:', alarm.strftime('%S'))"
      ],
      "metadata": {
        "id": "AxUhK5vf9Rk2",
        "outputId": "f0062b73-9c60-4bae-fa35-8faa48a14a14",
        "colab": {
          "base_uri": "https://localhost:8080/"
        }
      },
      "execution_count": 8,
      "outputs": [
        {
          "output_type": "stream",
          "name": "stdout",
          "text": [
            "Часы: 07\n",
            "Минуты: 30\n",
            "Секунды: 25\n"
          ]
        }
      ]
    },
    {
      "cell_type": "markdown",
      "source": [
        "https://stepik.org/lesson/570048/step/6?unit=564591"
      ],
      "metadata": {
        "id": "mxaACSIE9hCr"
      }
    },
    {
      "cell_type": "code",
      "source": [
        "from datetime import date\n",
        "\n",
        "birthday = date(1992, 10, 6)\n",
        "\n",
        "print('Название месяца:', birthday.strftime('%B'))\n",
        "print('Название дня недели:', birthday.strftime('%A'))\n",
        "print('Год:', birthday.strftime('%Y'))\n",
        "print('Месяц:', birthday.strftime('%m'))\n",
        "print('День:', birthday.strftime('%d'))"
      ],
      "metadata": {
        "id": "pBRbITVV9eRn",
        "outputId": "9833f9e2-7c29-4307-a082-a08b985d8d2b",
        "colab": {
          "base_uri": "https://localhost:8080/"
        }
      },
      "execution_count": 9,
      "outputs": [
        {
          "output_type": "stream",
          "name": "stdout",
          "text": [
            "Название месяца: October\n",
            "Название дня недели: Tuesday\n",
            "Год: 1992\n",
            "Месяц: 10\n",
            "День: 06\n"
          ]
        }
      ]
    },
    {
      "cell_type": "markdown",
      "source": [
        "https://stepik.org/lesson/570048/step/7?unit=564591"
      ],
      "metadata": {
        "id": "DsijyhOn9kHG"
      }
    },
    {
      "cell_type": "code",
      "source": [
        "# присваиваем самую раннюю дату урагана в переменную first_date\n",
        "import locale\n",
        "\n",
        "florida_hurricane_dates = [date(1992, 10, 6)]\n",
        "first_date = min(florida_hurricane_dates)\n",
        "\n",
        "# конвертируем дату в ISO и RU формат\n",
        "iso = 'Дата первого урагана в ISO формате: ' + first_date.strftime('%Y-%m-%d')\n",
        "ru = 'Дата первого урагана в RU формате: ' + first_date.strftime('%d.%m.%Y')\n",
        "us = 'Дата первого урагана в US формате: ' + first_date.strftime('%m/%d/%Y')\n",
        "\n",
        "print(iso)\n",
        "print(ru)\n",
        "print(us)"
      ],
      "metadata": {
        "id": "EFKP3KYV9iUO",
        "outputId": "712a9a4b-1710-4a28-b999-db886cfaf0ea",
        "colab": {
          "base_uri": "https://localhost:8080/"
        }
      },
      "execution_count": 14,
      "outputs": [
        {
          "output_type": "stream",
          "name": "stdout",
          "text": [
            "Дата первого урагана в ISO формате: 1992-10-06\n",
            "Дата первого урагана в RU формате: 06.10.1992\n",
            "Дата первого урагана в US формате: 10/06/1992\n"
          ]
        }
      ]
    },
    {
      "cell_type": "markdown",
      "source": [
        "https://stepik.org/lesson/570048/step/8?unit=564591"
      ],
      "metadata": {
        "id": "5ir_pbKa-H3L"
      }
    },
    {
      "cell_type": "code",
      "source": [
        "from datetime import date\n",
        "\n",
        "andrew = date(1992, 8, 24)\n",
        "\n",
        "print(andrew.strftime('%Y-%m'))   # выводим дату в формате YYYY-MM\n",
        "print(andrew.strftime('%B (%Y)'))   # выводим дату в формате month_name (YYYY)\n",
        "print(andrew.strftime('%Y-%j'))   # выводим дату в формате YYYY-day_number"
      ],
      "metadata": {
        "id": "fnCu-EQa9ldK"
      },
      "execution_count": null,
      "outputs": []
    },
    {
      "cell_type": "markdown",
      "source": [
        "https://stepik.org/lesson/570048/step/12?unit=564591"
      ],
      "metadata": {
        "id": "YV5_p4AN-KUy"
      }
    },
    {
      "cell_type": "code",
      "source": [
        "from datetime import date\n",
        "d1 = date.fromisoformat(input())\n",
        "d2 = date.fromisoformat(input())\n",
        "print(min([d1, d2]).strftime('%d-%m (%Y)'))"
      ],
      "metadata": {
        "id": "KJ-aSFn2-LxV"
      },
      "execution_count": null,
      "outputs": []
    },
    {
      "cell_type": "markdown",
      "source": [
        "https://stepik.org/lesson/570048/step/13?unit=564591"
      ],
      "metadata": {
        "id": "-6mbn1QB-OmZ"
      }
    },
    {
      "cell_type": "code",
      "source": [
        "from datetime import date\n",
        "n = int(input()) # input dates qty\n",
        "dates = [] # input dates\n",
        "for d in range(n):\n",
        "    dates.append(date.fromisoformat(input()))\n",
        "dates = sorted(dates)\n",
        "for d in dates:\n",
        "    print(d.strftime(f'%d/%m/%Y'))"
      ],
      "metadata": {
        "id": "Rl8wJAF--P9H"
      },
      "execution_count": null,
      "outputs": []
    },
    {
      "cell_type": "markdown",
      "source": [
        "https://stepik.org/lesson/570048/step/14?unit=564591"
      ],
      "metadata": {
        "id": "iAIUj6L_-R7l"
      }
    },
    {
      "cell_type": "code",
      "source": [
        "def print_good_dates(dates):\n",
        "    for d in sorted(filter(lambda d: d.year == 1992 and d.month + d.day == 29, dates)):\n",
        "        print(d.strftime('%B %d, %Y'))"
      ],
      "metadata": {
        "id": "1z0XYekD-Tb8"
      },
      "execution_count": null,
      "outputs": []
    },
    {
      "cell_type": "markdown",
      "source": [
        "https://stepik.org/lesson/570048/step/15?unit=564591"
      ],
      "metadata": {
        "id": "SkS5D8tv-VJh"
      }
    },
    {
      "cell_type": "code",
      "source": [
        "from datetime import date\n",
        "\n",
        "def is_correct(dd, mm, yyyy):\n",
        "    try:\n",
        "        date(yyyy, mm, dd)\n",
        "        return True\n",
        "    except ValueError:\n",
        "        return False"
      ],
      "metadata": {
        "id": "VXsXWKPC-Wc2"
      },
      "execution_count": null,
      "outputs": []
    },
    {
      "cell_type": "markdown",
      "source": [
        "https://stepik.org/lesson/570048/step/16?unit=564591"
      ],
      "metadata": {
        "id": "eX2CGLE4-YDL"
      }
    },
    {
      "cell_type": "code",
      "source": [
        "# put your python code here\n",
        "from datetime import date\n",
        "d = input()\n",
        "n = 0\n",
        "while d != 'end':\n",
        "    try:\n",
        "        date.fromisoformat('-'.join(d.split('.')[::-1]))\n",
        "    except ValueError:\n",
        "        print('Некорректная')\n",
        "    else:\n",
        "        print('Корректная')\n",
        "        n += 1\n",
        "    finally:\n",
        "        d = input()\n",
        "print(n)"
      ],
      "metadata": {
        "id": "4IZH6lbg-ZFU"
      },
      "execution_count": null,
      "outputs": []
    },
    {
      "cell_type": "markdown",
      "source": [
        "# 3.3 Тип данных datetime\n",
        "https://stepik.org/lesson/611754/step/13?unit=607091"
      ],
      "metadata": {
        "id": "oHlMD9jY-apk"
      }
    },
    {
      "cell_type": "code",
      "source": [
        "from datetime import datetime\n",
        "\n",
        "text = 'Уважаемый пациент, доктор готов принять Вас 15.07.2022 в 08:30'\n",
        "\n",
        "dt = datetime.strptime(text, 'Уважаемый пациент, доктор готов принять Вас %d.%m.%Y в %H:%M')\n",
        "\n",
        "print(dt)"
      ],
      "metadata": {
        "id": "GAiDPKH_-c9g",
        "outputId": "0086ac9d-4c91-4fcf-94e3-55ba39863fd7",
        "colab": {
          "base_uri": "https://localhost:8080/"
        }
      },
      "execution_count": 15,
      "outputs": [
        {
          "output_type": "stream",
          "name": "stdout",
          "text": [
            "2022-07-15 08:30:00\n"
          ]
        }
      ]
    },
    {
      "cell_type": "markdown",
      "source": [
        "https://stepik.org/lesson/611754/step/14?unit=607091"
      ],
      "metadata": {
        "id": "xu-7GUIK-i6Q"
      }
    },
    {
      "cell_type": "code",
      "source": [
        "from datetime import datetime\n",
        "\n",
        "seconds = 2483228800\n",
        "dt = datetime(2011, 11, 4)\n",
        "\n",
        "print(datetime.fromtimestamp(seconds))\n",
        "print(dt.timestamp())"
      ],
      "metadata": {
        "id": "A8b03EKl-fgf"
      },
      "execution_count": null,
      "outputs": []
    },
    {
      "cell_type": "markdown",
      "source": [
        "https://stepik.org/lesson/611754/step/15?unit=607091"
      ],
      "metadata": {
        "id": "8L6vu2sW-k2c"
      }
    },
    {
      "cell_type": "code",
      "source": [
        "from datetime import datetime, time\n",
        "\n",
        "times_of_purchases = [datetime(2017, 10, 1, 12, 23, 25), datetime(2017, 10, 1, 15, 26, 26),\n",
        "                      datetime(2017, 10, 1, 15, 42, 57), datetime(2017, 10, 1, 17, 49, 59),\n",
        "                      datetime(2017, 10, 2, 6, 37, 10), datetime(2017, 10, 2, 6, 42, 53),\n",
        "                      datetime(2017, 10, 2, 8, 56, 45), datetime(2017, 10, 2, 9, 18, 3),\n",
        "                      datetime(2017, 10, 2, 12, 23, 48), datetime(2017, 10, 2, 12, 45, 5),\n",
        "                      datetime(2017, 10, 2, 12, 48, 8), datetime(2017, 10, 2, 12, 10, 54),\n",
        "                      datetime(2017, 10, 2, 19, 18, 10), datetime(2017, 10, 2, 12, 31, 45),\n",
        "                      datetime(2017, 10, 3, 20, 57, 10), datetime(2017, 10, 4, 7, 4, 57),\n",
        "                      datetime(2017, 10, 4, 7, 13, 31), datetime(2017, 10, 4, 7, 13, 42),\n",
        "                      datetime(2017, 10, 4, 7, 21, 54), datetime(2017, 10, 4, 14, 22, 12),\n",
        "                      datetime(2017, 10, 4, 14, 50), datetime(2017, 10, 4, 15, 7, 27),\n",
        "                      datetime(2017, 10, 4, 12, 44, 49), datetime(2017, 10, 4, 12, 46, 41),\n",
        "                      datetime(2017, 10, 4, 16, 32, 33), datetime(2017, 10, 4, 16, 34, 44),\n",
        "                      datetime(2017, 10, 4, 16, 46, 59), datetime(2017, 10, 4, 12, 26, 6)]\n",
        "c = 0\n",
        "for d in times_of_purchases:\n",
        "    if d.time() > time.fromisoformat('12:00:00'):\n",
        "        c += 1\n",
        "    else: c -= 1\n",
        "print(['После полудня', 'До полудня'][int(c<0)])"
      ],
      "metadata": {
        "id": "r_jsCu7y-mVs"
      },
      "execution_count": null,
      "outputs": []
    },
    {
      "cell_type": "markdown",
      "source": [
        "https://stepik.org/lesson/611754/step/16?unit=607091"
      ],
      "metadata": {
        "id": "EejLpbHH-n4k"
      }
    },
    {
      "cell_type": "code",
      "source": [
        "from datetime import date, time, datetime\n",
        "\n",
        "dates = [date(1793, 8, 23), date(1410, 3, 11), date(804, 11, 12), date(632, 6, 4),\n",
        "         date(295, 1, 23), date(327, 8, 24), date(167, 4, 16), date(229, 1, 24),\n",
        "         date(1239, 2, 5), date(1957, 7, 14), date(197, 8, 24), date(479, 9, 6)]\n",
        "\n",
        "times = [time(7, 33, 27), time(21, 2, 10), time(17, 20, 47), time(20, 8, 59),\n",
        "         time(12, 42, 56), time(15, 9, 57), time(17, 47, 9), time(9, 40, 2),\n",
        "         time(11, 47, 1), time(17, 27, 10), time(17, 55, 40), time(9, 14, 9)]\n",
        "print(*sorted([datetime.combine(my_date, my_time) for my_date, my_time in zip(dates, times)], key = lambda x: x.second), sep = '\\n')"
      ],
      "metadata": {
        "id": "1_0f5jdw-pYZ"
      },
      "execution_count": null,
      "outputs": []
    },
    {
      "cell_type": "markdown",
      "source": [
        "https://stepik.org/lesson/611754/step/17?unit=607091"
      ],
      "metadata": {
        "id": "tlXvkDiB-qw4"
      }
    },
    {
      "cell_type": "code",
      "source": [
        "from datetime import datetime\n",
        "data = {'Дима': ('03.11.2021 09:31:18', '03.11.2021 11:41:28'),\n",
        "        'Геор': ('01.11.2021 09:03:04', '01.11.2021 12:40:35'),\n",
        "        'Анна': ('02.11.2021 04:41:54', '02.11.2021 05:39:40'),\n",
        "        'Илина': ('02.11.2021 01:36:40', '02.11.2021 04:48:27'),\n",
        "        'Герман': ('04.11.2021 07:51:19', '04.11.2021 09:53:53'),\n",
        "        'Руслан': ('01.11.2021 11:26:06', '01.11.2021 12:56:24'),\n",
        "        'Лера': ('03.11.2021 11:09:41', '03.11.2021 14:37:41'),\n",
        "        'Егор': ('03.11.2021 05:29:38', '03.11.2021 06:01:59'),\n",
        "        'Максим': ('05.11.2021 13:05:03', '05.11.2021 14:27:41'),\n",
        "        'Саша': ('03.11.2021 04:14:26', '03.11.2021 05:10:58'),\n",
        "        'Марина': ('05.11.2021 15:21:06', '05.11.2021 18:33:46')}\n",
        "\n",
        "for name in sorted(data.keys()):\n",
        "    data[name] =  (datetime.strptime(data[name][1], '%d.%m.%Y %H:%M:%S').timestamp() -\n",
        "         datetime.strptime(data[name][0], '%d.%m.%Y %H:%M:%S').timestamp())\n",
        "print(min(data, key = data.get))"
      ],
      "metadata": {
        "id": "oEjcgT8i-sCp"
      },
      "execution_count": null,
      "outputs": []
    },
    {
      "cell_type": "markdown",
      "source": [
        "https://stepik.org/lesson/611754/step/18?unit=607091\n",
        "\n",
        "## Дневник космонавта 🌶️"
      ],
      "metadata": {
        "id": "zmXOgjBt-tw0"
      }
    },
    {
      "cell_type": "code",
      "source": [
        "from datetime import datetime\n",
        "with open('diary.txt', 'r', encoding='utf-8') as f:\n",
        "    file = list(map(str.strip, f.readlines()))\n",
        "diary = {}\n",
        "for line in file:\n",
        "    try:\n",
        "        d = datetime.strptime(line, '%d.%m.%Y; %H:%M')\n",
        "        diary.setdefault(d, [])\n",
        "    except ValueError:\n",
        "        if line != '': diary[d].append(line)\n",
        "for k, v in sorted(diary.items()): #[16:19]\n",
        "    print(k.strftime('%d.%m.%Y; %H:%M'), end = '\\n')\n",
        "    print(*v, sep = '\\n', end = '\\n\\n')"
      ],
      "metadata": {
        "id": "fyaFCCEW-vi7"
      },
      "execution_count": null,
      "outputs": []
    },
    {
      "cell_type": "markdown",
      "source": [
        "https://stepik.org/lesson/611754/step/19?unit=607091\n",
        "\n",
        "## Функция is_available_date() 🌶️"
      ],
      "metadata": {
        "id": "Kyc6QMnu-3z6"
      }
    },
    {
      "cell_type": "code",
      "source": [
        "from datetime import datetime\n",
        "def is_available_date(dt:list, *sdt:str) -> bool:\n",
        "    #cheks if dates from dt an sdt overlaps\n",
        "    def date_ranges_overlap(start1:datetime, end1:datetime, start2:datetime, end2:datetime) ->bool:\n",
        "        #cheks if datetime ranges overlap\n",
        "        if start1 <= end2 and start2 <= end1:\n",
        "            return True\n",
        "        return False\n",
        "\n",
        "    def date_to_date_range(data:list|str) -> list:\n",
        "        #makes list of datetime objects from data\n",
        "        if isinstance(data, list):\n",
        "            return [datetime.strptime(d, '%d.%m.%Y') for d in data]\n",
        "        if len(data.split('-')) > 1:\n",
        "            return [datetime.strptime(d, '%d.%m.%Y') for d in data.split('-')]\n",
        "        return [datetime.strptime(data, '%d.%m.%Y')] * 2\n",
        "\n",
        "    for i in dt:\n",
        "        for j in sdt:\n",
        "            if date_ranges_overlap(*date_to_date_range(i), *date_to_date_range(j)):\n",
        "                return False\n",
        "    else: return True"
      ],
      "metadata": {
        "id": "A4NAql82-6Kq"
      },
      "execution_count": null,
      "outputs": []
    },
    {
      "cell_type": "markdown",
      "source": [
        "# 3.4 Тип данных timedelta\n",
        "https://stepik.org/lesson/570050/step/13?unit=564593"
      ],
      "metadata": {
        "id": "rLzC8969_Wtt"
      }
    },
    {
      "cell_type": "code",
      "source": [
        "from datetime import datetime, timedelta\n",
        "\n",
        "dt = datetime(2021, 11, 4, 13, 6) + timedelta(weeks = 1, hours = 12)\n",
        "\n",
        "print(dt.strftime('%d.%m.%Y %H:%M:%S'))"
      ],
      "metadata": {
        "id": "Gqa6SQDY_ahN",
        "outputId": "659efe18-c6fb-47b8-ab6a-cc35216a826a",
        "colab": {
          "base_uri": "https://localhost:8080/"
        }
      },
      "execution_count": 16,
      "outputs": [
        {
          "output_type": "stream",
          "name": "stdout",
          "text": [
            "12.11.2021 01:06:00\n"
          ]
        }
      ]
    },
    {
      "cell_type": "markdown",
      "source": [
        "https://stepik.org/lesson/570050/step/14?unit=564593"
      ],
      "metadata": {
        "id": "XhhcpP4j_fhv"
      }
    },
    {
      "cell_type": "code",
      "source": [
        "from datetime import date, timedelta\n",
        "\n",
        "today = date(2021, 11, 4)\n",
        "birthday = date(2022, 10, 6)\n",
        "\n",
        "days = (birthday - today).days\n",
        "\n",
        "print(days)"
      ],
      "metadata": {
        "id": "r8C0XCK-_dS3"
      },
      "execution_count": null,
      "outputs": []
    },
    {
      "cell_type": "markdown",
      "source": [
        "https://stepik.org/lesson/570050/step/15?unit=564593"
      ],
      "metadata": {
        "id": "AA9hQtG5_hpH"
      }
    },
    {
      "cell_type": "code",
      "source": [
        "from datetime import datetime, timedelta\n",
        "\n",
        "d=datetime.strptime(input(), '%d.%m.%Y')\n",
        "print((d - timedelta(days=1)).strftime('%d.%m.%Y'), (d + timedelta(days=1)).strftime('%d.%m.%Y'), sep = '\\n')"
      ],
      "metadata": {
        "id": "kAbnoOyI_iyL"
      },
      "execution_count": null,
      "outputs": []
    },
    {
      "cell_type": "markdown",
      "source": [
        "https://stepik.org/lesson/570050/step/16?unit=564593"
      ],
      "metadata": {
        "id": "Obcs22wr_lwF"
      }
    },
    {
      "cell_type": "code",
      "source": [
        "from datetime import datetime, timedelta\n",
        "t = datetime.strptime(input(), '%H:%M:%S') - datetime(1900, 1, 1)\n",
        "print(int(t.total_seconds()))"
      ],
      "metadata": {
        "id": "ENG_2YS3_nmo"
      },
      "execution_count": null,
      "outputs": []
    },
    {
      "cell_type": "markdown",
      "source": [
        "https://stepik.org/lesson/570050/step/17?unit=564593"
      ],
      "metadata": {
        "id": "cG2N0baX_p-Q"
      }
    },
    {
      "cell_type": "code",
      "source": [
        "from datetime import datetime, timedelta\n",
        "t = datetime.strptime(input(), '%H:%M:%S') + timedelta(seconds=int(input()))\n",
        "print(t.time().strftime('%H:%M:%S'))"
      ],
      "metadata": {
        "id": "cLwUAZuS_rLW"
      },
      "execution_count": null,
      "outputs": []
    },
    {
      "cell_type": "markdown",
      "source": [
        "https://stepik.org/lesson/570050/step/18?unit=564593"
      ],
      "metadata": {
        "id": "bTp15ajU_twk"
      }
    },
    {
      "cell_type": "code",
      "source": [
        "from datetime import datetime\n",
        "\n",
        "def num_of_sundays(y):\n",
        "    d = datetime.strptime(f'{y:04d}', '%Y').replace(month=12, day=31)\n",
        "    return int(d.strftime('%U'))"
      ],
      "metadata": {
        "id": "90mteC6A_vLf"
      },
      "execution_count": null,
      "outputs": []
    },
    {
      "cell_type": "markdown",
      "source": [
        "https://stepik.org/lesson/570050/step/19?unit=564593"
      ],
      "metadata": {
        "id": "lON7vclu_xsT"
      }
    },
    {
      "cell_type": "code",
      "source": [
        "from datetime import datetime, timedelta\n",
        "d = datetime.strptime(input(), '%d.%m.%Y')\n",
        "i = 0\n",
        "a = 0\n",
        "while i < 10:\n",
        "    i += 1\n",
        "    a += i\n",
        "    print((d + timedelta(days = a-1)).strftime('%d.%m.%Y'))"
      ],
      "metadata": {
        "id": "w9UranXi_0YN"
      },
      "execution_count": null,
      "outputs": []
    },
    {
      "cell_type": "markdown",
      "source": [
        "https://stepik.org/lesson/570050/step/20?unit=564593"
      ],
      "metadata": {
        "id": "Ao7OUlLn_2d6"
      }
    },
    {
      "cell_type": "code",
      "source": [
        "from datetime import datetime\n",
        "\n",
        "lst = [datetime.strptime(_ , '%d.%m.%Y') for _ in input().split()]\n",
        "\n",
        "result = []\n",
        "previous = None\n",
        "for d in lst:\n",
        "    if previous:\n",
        "        result.append((d - previous).days)\n",
        "    previous = d\n",
        "result = list(map(abs, result))\n",
        "\n",
        "print(result)"
      ],
      "metadata": {
        "id": "dF7ZfMjR_3k3"
      },
      "execution_count": null,
      "outputs": []
    },
    {
      "cell_type": "markdown",
      "source": [
        "https://stepik.org/lesson/570050/step/21?unit=564593"
      ],
      "metadata": {
        "id": "ia8Wpkcu_5Wb"
      }
    },
    {
      "cell_type": "code",
      "source": [
        "from datetime import datetime, timedelta\n",
        "def fill_up_missing_dates(dates):\n",
        "    pattern = '%d.%m.%Y'\n",
        "    dates = [datetime.strptime(s, pattern) for s in dates]\n",
        "    min_date = min(dates)\n",
        "    max_date = max(dates)\n",
        "    result = [min_date]\n",
        "    for i in range((max_date-min_date).days):\n",
        "        next_date = result[-1] + timedelta(days = 1)\n",
        "        result.append(next_date)\n",
        "    result = [_.strftime('%d.%m.%Y') for _ in result]\n",
        "    return result"
      ],
      "metadata": {
        "id": "Q348AKM2_6-5"
      },
      "execution_count": 17,
      "outputs": []
    },
    {
      "cell_type": "markdown",
      "source": [
        "https://stepik.org/lesson/570050/step/22?unit=564593"
      ],
      "metadata": {
        "id": "dX2MPMS9__dt"
      }
    },
    {
      "cell_type": "code",
      "source": [
        "from datetime import datetime, timedelta\n",
        "pattern = '%H:%M'\n",
        "time_start, time_stop  = datetime.strptime(input(), pattern), datetime.strptime(input(), pattern)\n",
        "lessong_duration = timedelta(seconds= 60 * 45)\n",
        "break_duration = timedelta(seconds= 60 * 10)\n",
        "number_of_lessons = ((time_stop -  time_start + break_duration) // (60 * 55)).seconds\n",
        "if number_of_lessons:\n",
        "    for i in range(number_of_lessons):\n",
        "        print(f'{(time_start + i * (lessong_duration + break_duration)).strftime(pattern)} - {(time_start + (i + 1)*lessong_duration + i * break_duration).strftime(pattern)}')"
      ],
      "metadata": {
        "id": "kTFBvart_9F4"
      },
      "execution_count": null,
      "outputs": []
    },
    {
      "cell_type": "markdown",
      "source": [
        "# 3.5 Решение задач\n",
        "https://stepik.org/lesson/571244/step/1?unit=565785"
      ],
      "metadata": {
        "id": "MSjHnQ10AF8C"
      }
    },
    {
      "cell_type": "code",
      "source": [
        "from datetime import date, time, datetime, timedelta\n",
        "\n",
        "data = [('07:14', '08:46'),\n",
        "        ('09:01', '09:37'),\n",
        "        ('10:00', '11:43'),\n",
        "        ('12:13', '13:49'),\n",
        "        ('15:00', '15:19'),\n",
        "        ('15:58', '17:24'),\n",
        "        ('17:57', '19:21'),\n",
        "        ('19:30', '19:59')]\n",
        "pattern = '%H:%M'\n",
        "tdeltas = [datetime.strptime(t[1], pattern)-datetime.strptime(t[0], pattern) for t in data]\n",
        "print(sum(tdeltas, start=timedelta()).seconds //60)"
      ],
      "metadata": {
        "id": "que_FhYLAH4n"
      },
      "execution_count": null,
      "outputs": []
    },
    {
      "cell_type": "markdown",
      "source": [
        "https://stepik.org/lesson/571244/step/2?unit=565785"
      ],
      "metadata": {
        "id": "INzRcbzQAJ5n"
      }
    },
    {
      "cell_type": "code",
      "source": [
        "from datetime import date\n",
        "\n",
        "d = {}\n",
        "for y in range(1, 10000):\n",
        "    for m in range(1, 13):\n",
        "        wd = date(y, m, 13).weekday()\n",
        "        d[wd] = d.get(wd, 0) + 1\n",
        "\n",
        "for k, v in sorted(d.items()):\n",
        "    print(v)"
      ],
      "metadata": {
        "id": "vKFEVY7eALlq",
        "outputId": "812a89f1-e420-4948-b95f-a665717a0aa8",
        "colab": {
          "base_uri": "https://localhost:8080/"
        }
      },
      "execution_count": 18,
      "outputs": [
        {
          "output_type": "stream",
          "name": "stdout",
          "text": [
            "17123\n",
            "17124\n",
            "17173\n",
            "17097\n",
            "17199\n",
            "17099\n",
            "17173\n"
          ]
        }
      ]
    },
    {
      "cell_type": "markdown",
      "source": [
        "https://stepik.org/lesson/571244/step/3?unit=565785"
      ],
      "metadata": {
        "id": "mosg7AKdAQ3a"
      }
    },
    {
      "cell_type": "code",
      "source": [
        "from datetime import datetime, timedelta\n",
        "from collections import defaultdict, namedtuple\n",
        "import locale\n",
        "locale.setlocale(locale.LC_ALL, 'ru_RU.UTF-8')\n",
        "pattern = '%d.%m.%Y %H:%M'\n",
        "dt = datetime.strptime(input(), pattern)\n",
        "td = timedelta(hours=dt.hour, minutes=dt.minute)\n",
        "\n",
        "working_hours = namedtuple('working_hours', ('start_time', 'end_time'))\n",
        "schedule = defaultdict(lambda: working_hours(timedelta(hours=9), timedelta(hours=21))) # расписание для остальных дней\n",
        "schedule['Суббота'] =  working_hours(timedelta(hours=10), timedelta(hours=18))\n",
        "schedule['Воскресенье'] =  working_hours(timedelta(hours=10), timedelta(hours=18))\n",
        "\n",
        "if td >= schedule[dt.strftime('%A')].start_time:\n",
        "    if schedule[dt.strftime('%A')].end_time - td > timedelta():\n",
        "        print((schedule[dt.strftime('%A')].end_time - td).seconds // 60)\n",
        "    else:  print('Магазин не работает')\n",
        "else:  print('Магазин не работает')"
      ],
      "metadata": {
        "id": "VFWIZkdWAOoN"
      },
      "execution_count": null,
      "outputs": []
    },
    {
      "cell_type": "markdown",
      "source": [
        "https://stepik.org/lesson/571244/step/4?unit=565785"
      ],
      "metadata": {
        "id": "MZAEVqV4ATIT"
      }
    },
    {
      "cell_type": "code",
      "source": [
        "from datetime import datetime, timedelta\n",
        "pattern = '%d.%m.%Y'\n",
        "\n",
        "min_date, max_date = [datetime.strptime(input(), pattern) for _ in range(2)]\n",
        "\n",
        "def find_start_date(min_date, max_date):\n",
        "    num_days = (max_date - min_date).days\n",
        "    for i in range(num_days + 1):\n",
        "        date = min_date + timedelta(days=i)\n",
        "        if (date.month + date.day) % 2:\n",
        "            return date\n",
        "    return None\n",
        "\n",
        "def print_filtered_dates(min_date, max_date):\n",
        "    if  not min_date: return\n",
        "    while min_date <= max_date:\n",
        "        if min_date.isoweekday() in (1, 4):\n",
        "            min_date += timedelta(days=3)\n",
        "            continue\n",
        "        print(min_date.strftime(pattern))\n",
        "        min_date += timedelta(days=3)\n",
        "\n",
        "first_print_date = find_start_date(min_date, max_date)\n",
        "print_filtered_dates(first_print_date, max_date)"
      ],
      "metadata": {
        "id": "yMelfQ56AU1f"
      },
      "execution_count": null,
      "outputs": []
    },
    {
      "cell_type": "markdown",
      "source": [
        "https://stepik.org/lesson/571244/step/5?unit=565785"
      ],
      "metadata": {
        "id": "is_7sEiaAXXI"
      }
    },
    {
      "cell_type": "code",
      "source": [
        "from datetime import datetime\n",
        "pattern = '%d.%m.%Y'\n",
        "max_date = datetime.today()\n",
        "for n in range(int(input())):\n",
        "    n, s, d = input().split()\n",
        "    d = datetime.strptime(d, pattern)\n",
        "    if d < max_date:\n",
        "        max_date = d\n",
        "        name_surname = n + ' ' + s\n",
        "    elif d == max_date:\n",
        "        if isinstance(name_surname, int):\n",
        "            name_surname += 1\n",
        "        else: name_surname = 2\n",
        "print(max_date.strftime(pattern), name_surname)"
      ],
      "metadata": {
        "id": "MDF9H3BEAYuo"
      },
      "execution_count": null,
      "outputs": []
    },
    {
      "cell_type": "markdown",
      "source": [
        "https://stepik.org/lesson/571244/step/6?unit=565785"
      ],
      "metadata": {
        "id": "KfXmvgunAbo8"
      }
    },
    {
      "cell_type": "code",
      "source": [
        "from datetime import datetime\n",
        "pattern = '%d.%m.%Y'\n",
        "n = int(input())\n",
        "bdays = {}\n",
        "for empl in range(n):\n",
        "    bdate = input().split()[-1]\n",
        "    bdays[bdate] = bdays.get(bdate, 0) + 1\n",
        "n_max = max(bdays.values())\n",
        "for k, v in sorted(bdays.items(), key= lambda x: datetime.strptime(x[0], pattern)):\n",
        "    if v == n_max:\n",
        "        print(k)"
      ],
      "metadata": {
        "id": "PcvUfFVCAcwq"
      },
      "execution_count": null,
      "outputs": []
    },
    {
      "cell_type": "markdown",
      "source": [
        "https://stepik.org/lesson/571244/step/7?unit=565785"
      ],
      "metadata": {
        "id": "yeX3CfmwAe3T"
      }
    },
    {
      "cell_type": "code",
      "source": [
        "from datetime import datetime, timedelta\n",
        "pattern = '%d.%m.%Y'\n",
        "today = datetime.strptime(input(), pattern)\n",
        "\n",
        "last_day = today + timedelta(days=7)\n",
        "year_change = last_day.year - today.year\n",
        "n = int(input())\n",
        "bd_list = []\n",
        "for _ in range(n):\n",
        "    *n, d = input().split()\n",
        "    d = datetime.strptime(d, pattern)\n",
        "    if today.replace(year=d.year-year_change) < d <=  last_day.replace(year=d.year):\n",
        "        bd_list.append((n, d))\n",
        "if bd_list:\n",
        "    print(*max(bd_list, key= lambda x: x[1])[0])\n",
        "else: print('Дни рождения не планируются')"
      ],
      "metadata": {
        "id": "-HFda4tYAgDn"
      },
      "execution_count": null,
      "outputs": []
    },
    {
      "cell_type": "markdown",
      "source": [
        "https://stepik.org/lesson/571244/step/8?unit=565785\n",
        "## FAKE NEWS 🌶️"
      ],
      "metadata": {
        "id": "xo0FI8EeAjIC"
      }
    },
    {
      "cell_type": "code",
      "source": [
        "from datetime import datetime\n",
        "\n",
        "pattern = '%d.%m.%Y %H:%M'\n",
        "now = datetime.strptime(input(), pattern)\n",
        "final = datetime.strptime('08.11.2022 12:00', pattern)\n",
        "\n",
        "d = (final - now).days\n",
        "h = (final - now).seconds // 3600\n",
        "m = (final - now).seconds % 3600 // 60\n",
        "\n",
        "day = ['день', \"дня\", \"дней\"]\n",
        "hour = ['час', 'часа', 'часов']\n",
        "minute = ['минута', 'минуты', 'минут']\n",
        "\n",
        "\n",
        "def choose_form(num):\n",
        "    if num % 100 in (11, 12, 13, 14):\n",
        "        return 2\n",
        "    if str(num)[-1] == '1':\n",
        "        return 0\n",
        "    elif str(num)[-1] in ('2', '3', '4'):\n",
        "        return 1\n",
        "    return 2\n",
        "\n",
        "if d > 0:\n",
        "    result = f'До выхода курса осталось: {d} {day[choose_form(d)]}'\n",
        "    if h:\n",
        "\n",
        "        result += f' и {h} {hour[choose_form(h)]}'\n",
        "elif d == 0 and h > 0:\n",
        "    result = f'До выхода курса осталось: {h} {hour[choose_form(h)]}'\n",
        "    if m:\n",
        "        result += f' и {m} {minute[choose_form(m)]}'\n",
        "elif d == 0 and h == 0 and m > 0:\n",
        "    result = f'До выхода курса осталось: {m} {minute[choose_form(m)]}'\n",
        "else: result = 'Курс уже вышел!'\n",
        "\n",
        "print('Курс уже вышел!' if now >= final else result)"
      ],
      "metadata": {
        "id": "WFH72cx0Amit"
      },
      "execution_count": null,
      "outputs": []
    },
    {
      "cell_type": "markdown",
      "source": [
        "# 3.6 Модуль\n",
        "https://stepik.org/lesson/570055/step/10?unit=564599"
      ],
      "metadata": {
        "id": "JB3QwyHnAlnr"
      }
    },
    {
      "cell_type": "code",
      "source": [
        "def calculate_it(func, *args):\n",
        "    from time import monotonic\n",
        "    t = monotonic()\n",
        "    result = func(*args)\n",
        "    return result, monotonic() - t"
      ],
      "metadata": {
        "id": "sWzocT2VAus6"
      },
      "execution_count": null,
      "outputs": []
    },
    {
      "cell_type": "markdown",
      "source": [
        "https://stepik.org/lesson/570055/step/11?unit=564599"
      ],
      "metadata": {
        "id": "RQkc2qAeAwL0"
      }
    },
    {
      "cell_type": "code",
      "source": [
        "from timeit import timeit\n",
        "def get_the_fastest_func(func_lst, arg):\n",
        "    times = []\n",
        "    for f in func_lst:\n",
        "        times.append(timeit('f(arg)', globals=locals(), number=1))\n",
        "\n",
        "    return func_lst[times.index(min(times))]"
      ],
      "metadata": {
        "id": "Q2Ew7pMPAx1l"
      },
      "execution_count": null,
      "outputs": []
    },
    {
      "cell_type": "markdown",
      "source": [
        "# 3.7 Модуль calendar\n",
        "https://stepik.org/lesson/570049/step/7?unit=564592"
      ],
      "metadata": {
        "id": "378n8ilVA1GX"
      }
    },
    {
      "cell_type": "code",
      "source": [
        "import calendar\n",
        "n = int(input())\n",
        "for _ in range(n):\n",
        "    print(calendar.isleap(int(input())))"
      ],
      "metadata": {
        "id": "qFSK8vzdA3kv",
        "outputId": "192f53a6-fd7c-4c98-e101-d57b89be4f5d",
        "colab": {
          "base_uri": "https://localhost:8080/"
        }
      },
      "execution_count": 22,
      "outputs": [
        {
          "output_type": "stream",
          "name": "stdout",
          "text": [
            "3\n",
            "4433\n",
            "False\n",
            "2048\n",
            "True\n",
            "9757\n",
            "False\n"
          ]
        }
      ]
    },
    {
      "cell_type": "markdown",
      "source": [
        "https://stepik.org/lesson/570049/step/8?unit=564592"
      ],
      "metadata": {
        "id": "Gdd45VQqBH3c"
      }
    },
    {
      "cell_type": "code",
      "source": [
        "from datetime import datetime\n",
        "import calendar\n",
        "d = datetime.strptime(input(), '%Y %b')\n",
        "print(calendar.month(d.year, d.month))"
      ],
      "metadata": {
        "id": "DSQvJvBBA5jd"
      },
      "execution_count": null,
      "outputs": []
    },
    {
      "cell_type": "markdown",
      "source": [
        "https://stepik.org/lesson/570049/step/9?unit=564592"
      ],
      "metadata": {
        "id": "7ZpKy_2ABJq0"
      }
    },
    {
      "cell_type": "code",
      "source": [
        "from datetime import date\n",
        "d = date.fromisoformat(input())\n",
        "print(d.strftime('%A'))"
      ],
      "metadata": {
        "id": "GI-gBPnrBM-i"
      },
      "execution_count": null,
      "outputs": []
    },
    {
      "cell_type": "markdown",
      "source": [
        "https://stepik.org/lesson/570049/step/10?unit=564592"
      ],
      "metadata": {
        "id": "Dm696LFWBPek"
      }
    },
    {
      "cell_type": "code",
      "source": [
        "from datetime import datetime\n",
        "import calendar\n",
        "d = datetime.strptime(input(), '%Y %m')\n",
        "print(calendar.monthrange(d.year, d.month)[1])"
      ],
      "metadata": {
        "id": "DMOPCR1BBQlz"
      },
      "execution_count": null,
      "outputs": []
    },
    {
      "cell_type": "markdown",
      "source": [
        "https://stepik.org/lesson/570049/step/11?unit=564592"
      ],
      "metadata": {
        "id": "Xz46MYmBBSSW"
      }
    },
    {
      "cell_type": "code",
      "source": [
        "from datetime import datetime\n",
        "import calendar\n",
        "d = datetime.strptime(input(), '%Y %B')\n",
        "print(calendar.monthrange(d.year, d.month)[1])"
      ],
      "metadata": {
        "id": "wmF97YouBTas"
      },
      "execution_count": null,
      "outputs": []
    },
    {
      "cell_type": "markdown",
      "source": [
        "https://stepik.org/lesson/570049/step/12?unit=564592"
      ],
      "metadata": {
        "id": "_zSJA6PmBVAF"
      }
    },
    {
      "cell_type": "code",
      "source": [
        "from datetime import datetime, date\n",
        "import calendar\n",
        "def get_days_in_month(y, m):\n",
        "    d = datetime(year = y, month = list(calendar.month_name).index(m), day=1)\n",
        "    r = [d.replace(day=i).date() for i in range(1, calendar.monthrange(d.year, d.month)[1]+1)]\n",
        "    return r"
      ],
      "metadata": {
        "id": "vLnbxGVUBWEy"
      },
      "execution_count": null,
      "outputs": []
    },
    {
      "cell_type": "markdown",
      "source": [
        "https://stepik.org/lesson/570049/step/13?unit=564592"
      ],
      "metadata": {
        "id": "12SGdrZ8BXsx"
      }
    },
    {
      "cell_type": "code",
      "source": [
        "from datetime import date\n",
        "from dateutil.relativedelta import relativedelta, MO\n",
        "from dateutil.rrule import rrule, WEEKLY\n",
        "def get_all_mondays(y):\n",
        "    result = list(d.date() for d in rrule(WEEKLY, dtstart=date(y, 1, 1) + relativedelta(weekday=MO(1)), until=date(y, 12, 31)))\n",
        "    return result"
      ],
      "metadata": {
        "id": "PF4VNOm-BZw0"
      },
      "execution_count": null,
      "outputs": []
    },
    {
      "cell_type": "markdown",
      "source": [
        "https://stepik.org/lesson/570049/step/14?unit=564592"
      ],
      "metadata": {
        "id": "qDOmc9ErBcqy"
      }
    },
    {
      "cell_type": "code",
      "source": [
        "import calendar, datetime"
      ],
      "metadata": {
        "id": "Lh_qFBx_Bo2R"
      },
      "execution_count": 52,
      "outputs": []
    },
    {
      "cell_type": "code",
      "source": [
        "def get_all_ths(year):\n",
        "    ths = []\n",
        "    for month in range(1, 13):\n",
        "        weeks = calendar.monthcalendar(year, month)\n",
        "        if weeks[0][3] != 0:\n",
        "            ths.append(datetime.date(year, month, weeks[2][3]).strftime('%d.%m.%Y') )\n",
        "        else:\n",
        "            ths.append(datetime.date(year, month, weeks[3][3]).strftime('%d.%m.%Y') )\n",
        "    return ths"
      ],
      "metadata": {
        "id": "P_wJp1YVDVpB"
      },
      "execution_count": 53,
      "outputs": []
    },
    {
      "cell_type": "code",
      "source": [
        "print(*get_all_ths(int(input())), sep = '\\n')"
      ],
      "metadata": {
        "id": "Ora-GGTdEib7",
        "outputId": "b04b7fe2-74c1-4a13-e873-abfa2ea72d03",
        "colab": {
          "base_uri": "https://localhost:8080/"
        }
      },
      "execution_count": 59,
      "outputs": [
        {
          "output_type": "stream",
          "name": "stdout",
          "text": [
            "2021\n",
            "21.01.2021\n",
            "18.02.2021\n",
            "18.03.2021\n",
            "15.04.2021\n",
            "20.05.2021\n",
            "17.06.2021\n",
            "15.07.2021\n",
            "19.08.2021\n",
            "16.09.2021\n",
            "21.10.2021\n",
            "18.11.2021\n",
            "16.12.2021\n"
          ]
        }
      ]
    },
    {
      "cell_type": "code",
      "source": [
        "calendar.monthcalendar(2024, 8)"
      ],
      "metadata": {
        "id": "_svTpRT0Ej_q",
        "outputId": "49ed9556-42ba-4ddc-b709-c24f9e3782f8",
        "colab": {
          "base_uri": "https://localhost:8080/"
        }
      },
      "execution_count": 44,
      "outputs": [
        {
          "output_type": "execute_result",
          "data": {
            "text/plain": [
              "[[0, 0, 0, 1, 2, 3, 4],\n",
              " [5, 6, 7, 8, 9, 10, 11],\n",
              " [12, 13, 14, 15, 16, 17, 18],\n",
              " [19, 20, 21, 22, 23, 24, 25],\n",
              " [26, 27, 28, 29, 30, 31, 0]]"
            ]
          },
          "metadata": {},
          "execution_count": 44
        }
      ]
    },
    {
      "cell_type": "code",
      "source": [],
      "metadata": {
        "id": "nG3ul7U_HIGN"
      },
      "execution_count": null,
      "outputs": []
    }
  ]
}