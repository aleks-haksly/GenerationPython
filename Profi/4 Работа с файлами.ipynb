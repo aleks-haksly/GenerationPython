{
  "nbformat": 4,
  "nbformat_minor": 0,
  "metadata": {
    "colab": {
      "provenance": [],
      "authorship_tag": "ABX9TyML59qd/LjBrELI0v0AnZgl",
      "include_colab_link": true
    },
    "kernelspec": {
      "name": "python3",
      "display_name": "Python 3"
    },
    "language_info": {
      "name": "python"
    }
  },
  "cells": [
    {
      "cell_type": "markdown",
      "metadata": {
        "id": "view-in-github",
        "colab_type": "text"
      },
      "source": [
        "<a href=\"https://colab.research.google.com/github/aleks-haksly/GenerationPython/blob/main/Profi/4%20%D0%A0%D0%B0%D0%B1%D0%BE%D1%82%D0%B0%20%D1%81%20%D1%84%D0%B0%D0%B9%D0%BB%D0%B0%D0%BC%D0%B8.ipynb\" target=\"_parent\"><img src=\"https://colab.research.google.com/assets/colab-badge.svg\" alt=\"Open In Colab\"/></a>"
      ]
    },
    {
      "cell_type": "markdown",
      "source": [
        "## 4.1 Потоковый ввод stdin и вывод stdout\n",
        "https://stepik.org/lesson/520159/step/10?unit=512678"
      ],
      "metadata": {
        "id": "ChOdik9-LT2h"
      }
    },
    {
      "cell_type": "code",
      "source": [
        "import sys\n",
        "a = [_.strip()[::-1] for _ in sys.stdin]\n",
        "if a: print(*a, sep = '\\n')"
      ],
      "metadata": {
        "id": "WGbIEwcrLe8i"
      },
      "execution_count": null,
      "outputs": []
    }
  ]
}