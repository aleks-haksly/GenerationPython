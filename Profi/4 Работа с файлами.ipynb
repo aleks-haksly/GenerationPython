{
  "nbformat": 4,
  "nbformat_minor": 0,
  "metadata": {
    "colab": {
      "provenance": [],
      "authorship_tag": "ABX9TyOd86W2OJL/Ot4IKCLJHkYa",
      "include_colab_link": true
    },
    "kernelspec": {
      "name": "python3",
      "display_name": "Python 3"
    },
    "language_info": {
      "name": "python"
    }
  },
  "cells": [
    {
      "cell_type": "markdown",
      "metadata": {
        "id": "view-in-github",
        "colab_type": "text"
      },
      "source": [
        "<a href=\"https://colab.research.google.com/github/aleks-haksly/GenerationPython/blob/main/Profi/4%20%D0%A0%D0%B0%D0%B1%D0%BE%D1%82%D0%B0%20%D1%81%20%D1%84%D0%B0%D0%B9%D0%BB%D0%B0%D0%BC%D0%B8.ipynb\" target=\"_parent\"><img src=\"https://colab.research.google.com/assets/colab-badge.svg\" alt=\"Open In Colab\"/></a>"
      ]
    },
    {
      "cell_type": "markdown",
      "source": [
        "## 4.1 Потоковый ввод stdin и вывод stdout\n",
        "https://stepik.org/lesson/520159/step/10?unit=512678"
      ],
      "metadata": {
        "id": "ChOdik9-LT2h"
      }
    },
    {
      "cell_type": "code",
      "source": [
        "import sys\n",
        "a = [_.strip()[::-1] for _ in sys.stdin]\n",
        "if a: print(*a, sep = '\\n')"
      ],
      "metadata": {
        "id": "WGbIEwcrLe8i"
      },
      "execution_count": null,
      "outputs": []
    },
    {
      "cell_type": "markdown",
      "source": [
        "https://stepik.org/lesson/520159/step/11?unit=512678"
      ],
      "metadata": {
        "id": "_c_9vj5SN_wv"
      }
    },
    {
      "cell_type": "code",
      "source": [
        "from datetime import date\n",
        "import sys\n",
        "dates = [date.fromisoformat(_.strip()) for _ in sys.stdin]\n",
        "print((max(dates) - min(dates)).days)"
      ],
      "metadata": {
        "id": "9pkxkIdvOJU8"
      },
      "execution_count": null,
      "outputs": []
    },
    {
      "cell_type": "markdown",
      "source": [
        "https://stepik.org/lesson/520159/step/12?unit=512678"
      ],
      "metadata": {
        "id": "zyW334USOSeH"
      }
    },
    {
      "cell_type": "code",
      "source": [
        "import sys\n",
        "for i, n in enumerate(sys.stdin):\n",
        "    n = int(n) % 2\n",
        "    i = i % 2\n",
        "print(sorted(['Анри', 'Дима'], reverse=i)[n])"
      ],
      "metadata": {
        "id": "1s7V1KJhONOY"
      },
      "execution_count": null,
      "outputs": []
    },
    {
      "cell_type": "markdown",
      "source": [
        "https://stepik.org/lesson/520159/step/13?unit=512678"
      ],
      "metadata": {
        "id": "vH3Owk7yOWNh"
      }
    },
    {
      "cell_type": "code",
      "source": [
        "import sys\n",
        "import numpy as np\n",
        "h = [int(_) for _ in sys.stdin]\n",
        "if h:\n",
        "    print(f'Рост самого низкого ученика: {min(h)}')\n",
        "    print(f'Рост самого высокого ученика: {max(h)}')\n",
        "    print(f'Средний рост: {np.mean(h)}')\n",
        "else: print('нет учеников')"
      ],
      "metadata": {
        "id": "CEoaFmHzOXsS"
      },
      "execution_count": null,
      "outputs": []
    },
    {
      "cell_type": "markdown",
      "source": [
        "https://stepik.org/lesson/520159/step/14?unit=512678"
      ],
      "metadata": {
        "id": "huLmn4j3OdHi"
      }
    },
    {
      "cell_type": "code",
      "source": [
        "# put your python code here\n",
        "import sys\n",
        "n = 0\n",
        "for _ in sys.stdin:\n",
        "    if _.strip().startswith('#'):\n",
        "        n += 1\n",
        "print(n)"
      ],
      "metadata": {
        "colab": {
          "base_uri": "https://localhost:8080/"
        },
        "id": "NG_UV5rxOgiM",
        "outputId": "097a5fd2-35e4-4415-a463-f50b9de63f77"
      },
      "execution_count": null,
      "outputs": [
        {
          "output_type": "stream",
          "name": "stdout",
          "text": [
            "0\n"
          ]
        }
      ]
    },
    {
      "cell_type": "markdown",
      "source": [
        "https://stepik.org/lesson/520159/step/15?unit=512678"
      ],
      "metadata": {
        "id": "rB9it-63OrsN"
      }
    },
    {
      "cell_type": "code",
      "source": [
        "import sys\n",
        "for s in sys.stdin:\n",
        "    if s.strip().startswith('#'):\n",
        "        continue\n",
        "    print(s, end = '')"
      ],
      "metadata": {
        "id": "IsvP7hFGOj1X"
      },
      "execution_count": null,
      "outputs": []
    },
    {
      "cell_type": "markdown",
      "source": [
        "https://stepik.org/lesson/520159/step/16?unit=512678"
      ],
      "metadata": {
        "id": "uexoMY-qOvSn"
      }
    },
    {
      "cell_type": "code",
      "source": [
        "import sys\n",
        "news = {}\n",
        "for _ in sys.stdin:\n",
        "    n = _.strip().split('/')\n",
        "    if len(n) > 1:\n",
        "        news.setdefault(n[1].strip(), []).append((n[2].strip(), n[0].strip()))\n",
        "for news_type in sorted(news.get(*n)):\n",
        "    print(news_type[1])"
      ],
      "metadata": {
        "id": "6ZwxJesqO4Om"
      },
      "execution_count": null,
      "outputs": []
    },
    {
      "cell_type": "markdown",
      "source": [
        "https://stepik.org/lesson/520159/step/17?unit=512678"
      ],
      "metadata": {
        "id": "uGmqsG0NO8hF"
      }
    },
    {
      "cell_type": "code",
      "source": [
        "import sys\n",
        "from dateutil.parser import parse\n",
        "ascending = True\n",
        "descending = True\n",
        "last_date = None\n",
        "for d in sys.stdin:\n",
        "    d = parse(d, dayfirst=True)\n",
        "    if not (ascending or descending):\n",
        "        break\n",
        "    if last_date:\n",
        "        if last_date > d:\n",
        "            ascending = False\n",
        "        elif last_date < d:\n",
        "            descending = False\n",
        "        else:\n",
        "            descending = False\n",
        "            ascending = False\n",
        "            break\n",
        "    last_date = d\n",
        "print('MIX' if not(ascending or descending) else 'ASC' if ascending else 'DESC')"
      ],
      "metadata": {
        "id": "St6QqriLO-4E"
      },
      "execution_count": null,
      "outputs": []
    },
    {
      "cell_type": "markdown",
      "source": [
        "https://stepik.org/lesson/520159/step/18?unit=512678"
      ],
      "metadata": {
        "id": "tYvpRmCJPCwv"
      }
    },
    {
      "cell_type": "code",
      "source": [
        "import sys\n",
        "a_progression = True\n",
        "g_progression = True\n",
        "a_delta = None\n",
        "previous = None\n",
        "g_delta = None\n",
        "for n in sys.stdin:\n",
        "    n = int(n)\n",
        "    if not (a_progression or g_progression): break\n",
        "    if previous:\n",
        "        if a_delta:\n",
        "            new_a_delta = n - previous\n",
        "            if new_a_delta != a_delta:\n",
        "                a_progression = False\n",
        "        else: a_delta = n - previous\n",
        "        if g_delta:\n",
        "            new_g_delta = n / previous\n",
        "            if new_g_delta != g_delta:\n",
        "                g_progression = False\n",
        "        else: g_delta = n / previous\n",
        "    previous = n\n",
        "print('Не прогрессия' if not(a_progression or g_progression) else 'Арифметическая прогрессия' if a_progression else 'Геометрическая прогрессия')"
      ],
      "metadata": {
        "id": "GGNsASFfPEzN"
      },
      "execution_count": null,
      "outputs": []
    },
    {
      "cell_type": "markdown",
      "source": [
        "# 4.2 Работа с csv файлами"
      ],
      "metadata": {
        "id": "x9FJ8DXmPZ_M"
      }
    },
    {
      "cell_type": "markdown",
      "source": [
        "https://stepik.org/lesson/518491/step/10?unit=510939"
      ],
      "metadata": {
        "id": "sJEHbQXrPbbj"
      }
    },
    {
      "cell_type": "code",
      "source": [
        "import csv\n",
        "\n",
        "with open('grades.csv', encoding='utf-8') as csv_file:\n",
        "    # считываем содержимое файла\n",
        "    text = csv_file.read()\n",
        "    # создаем reader объект и указываем в качестве разделителя символ ;\n",
        "    rows = csv.reader(text, delimiter=';')\n",
        "    # выводим каждую строку\n",
        "    for row in rows:\n",
        "        print(row)"
      ],
      "metadata": {
        "id": "0-lYshk2PeLB"
      },
      "execution_count": null,
      "outputs": []
    },
    {
      "cell_type": "markdown",
      "source": [
        "https://stepik.org/lesson/518491/step/11?unit=510939"
      ],
      "metadata": {
        "id": "yZJ0KZCoPhOy"
      }
    },
    {
      "cell_type": "code",
      "source": [
        "import csv\n",
        "\n",
        "with open('writing_test.csv', 'w', encoding='utf-8') as csv_file:\n",
        "    # создаем writer объект и указываем названия столбцов\n",
        "    writer = csv.DictWriter(csv_file, fieldnames=['first_col', 'second_col'])\n",
        "    # записываем первую строку с названиями столбцов\n",
        "    writer.writeheader()\n",
        "    # записываем строку с данными\n",
        "    writer.writerow({'first_col': 'value1', 'second_col': 'value2'})"
      ],
      "metadata": {
        "id": "DMI-TdniPi6U"
      },
      "execution_count": null,
      "outputs": []
    },
    {
      "cell_type": "markdown",
      "source": [
        "https://stepik.org/lesson/518491/step/12?unit=510939"
      ],
      "metadata": {
        "id": "45wCq_eCPlKV"
      }
    },
    {
      "cell_type": "code",
      "source": [
        "!wget https://stepik.org/media/attachments/lesson/518491/sales.csv"
      ],
      "metadata": {
        "colab": {
          "base_uri": "https://localhost:8080/"
        },
        "id": "QtRlVW90PndQ",
        "outputId": "8b81f683-8b53-433a-d800-acc7435dbe14"
      },
      "execution_count": null,
      "outputs": [
        {
          "output_type": "stream",
          "name": "stdout",
          "text": [
            "--2024-08-06 10:32:18--  https://stepik.org/media/attachments/lesson/518491/sales.csv\n",
            "Resolving stepik.org (stepik.org)... 178.248.239.111\n",
            "Connecting to stepik.org (stepik.org)|178.248.239.111|:443... connected.\n",
            "HTTP request sent, awaiting response... 200 OK\n",
            "Length: 53458 (52K) [text/csv]\n",
            "Saving to: ‘sales.csv’\n",
            "\n",
            "sales.csv           100%[===================>]  52.21K   263KB/s    in 0.2s    \n",
            "\n",
            "2024-08-06 10:32:19 (263 KB/s) - ‘sales.csv’ saved [53458/53458]\n",
            "\n"
          ]
        }
      ]
    },
    {
      "cell_type": "code",
      "source": [
        "import csv\n",
        "\n",
        "with open('sales.csv', encoding='utf-8') as csv_file:\n",
        "    # создаем reader объект и указываем в качестве разделителя символ ;\n",
        "    rows = list((csv.reader(csv_file, delimiter=';')))[1:]\n",
        "for name, *_ in filter(lambda row: int(row[1]) > int(row[2]), rows):\n",
        "    print(name)"
      ],
      "metadata": {
        "id": "c7BzEF7XTnTO"
      },
      "execution_count": null,
      "outputs": []
    },
    {
      "cell_type": "markdown",
      "source": [
        "https://stepik.org/lesson/518491/step/13?unit=510939"
      ],
      "metadata": {
        "id": "acZk1eOrUu2u"
      }
    },
    {
      "cell_type": "code",
      "source": [
        "import pandas as pd\n",
        "df = pd.read_csv('salary_data.csv', sep=';')\n",
        "result = df.groupby('company_name', as_index=False)['salary'].mean().sort_values(by=['salary', 'company_name'])['company_name'].to_list()\n",
        "for _ in result:\n",
        "    print(_)"
      ],
      "metadata": {
        "id": "4mx2mff1UvH8"
      },
      "execution_count": null,
      "outputs": []
    },
    {
      "cell_type": "markdown",
      "source": [
        "https://stepik.org/lesson/518491/step/14?unit=510939"
      ],
      "metadata": {
        "id": "SsqpB0OvU4SC"
      }
    },
    {
      "cell_type": "code",
      "source": [
        "import pandas as pd\n",
        "df = pd.read_csv('deniro.csv', header=None)\n",
        "df.columns = [i+1 for i in df.columns]\n",
        "df.index.name = 'index'\n",
        "df.sort_values(by=[int(input()), 'index'], inplace=True)\n",
        "for line in df.to_records():\n",
        "    print(*list(line)[1:], sep=',')"
      ],
      "metadata": {
        "id": "PxqTaT6nU5mX"
      },
      "execution_count": null,
      "outputs": []
    },
    {
      "cell_type": "markdown",
      "source": [
        "https://stepik.org/lesson/518491/step/15?unit=510939"
      ],
      "metadata": {
        "id": "u7d_tW56U73N"
      }
    },
    {
      "cell_type": "code",
      "source": [
        "import pandas as pd\n",
        "def csv_columns(fname):\n",
        "    return pd.read_csv(fname, encoding='UTF-8').astype(str).to_dict('list')"
      ],
      "metadata": {
        "id": "36RK_EgRU9Hc"
      },
      "execution_count": null,
      "outputs": []
    },
    {
      "cell_type": "markdown",
      "source": [
        "https://stepik.org/lesson/518491/step/16?unit=510939"
      ],
      "metadata": {
        "id": "lFkAy4e7VAto"
      }
    },
    {
      "cell_type": "code",
      "source": [
        "import pandas as pd\n",
        "df = pd.read_csv('data.csv')\n",
        "df['domain'] = df['email'].apply(lambda x: x.split('@')[1])\n",
        "df.groupby('domain')['email'].count().reset_index().sort_values(by='email').rename(columns={'email': 'count'}).to_csv('domain_usage.csv', index=False)"
      ],
      "metadata": {
        "id": "Aq3Hr9D1VCfy"
      },
      "execution_count": null,
      "outputs": []
    },
    {
      "cell_type": "markdown",
      "source": [
        "https://stepik.org/lesson/518491/step/17?unit=510939"
      ],
      "metadata": {
        "id": "HnoiyEwJVGJa"
      }
    },
    {
      "cell_type": "code",
      "source": [
        "!wget -q https://stepik.org/media/attachments/lesson/518491/wifi.csv"
      ],
      "metadata": {
        "id": "2GpEnhb4VJSn"
      },
      "execution_count": null,
      "outputs": []
    },
    {
      "cell_type": "code",
      "source": [
        "import csv\n",
        "with open('wifi.csv', encoding='utf-8') as f:\n",
        "    reader = csv.reader(f, delimiter=';')\n",
        "    data = list(reader)\n",
        "d = dict()\n",
        "for row in data[1:]:\n",
        "    d[row[1]] = d.get(row[1], 0) + int(row[3])\n",
        "for r in sorted(d.items(), key=lambda x: (-x[1], x[0]), reverse=True)[::-1]:\n",
        "    print(f'{r[0]}: {r[1]}')"
      ],
      "metadata": {
        "colab": {
          "base_uri": "https://localhost:8080/"
        },
        "id": "9dOmwYTFfJrB",
        "outputId": "a0b49ed5-af72-40f9-e0ea-93c2c5aca4a5"
      },
      "execution_count": null,
      "outputs": [
        {
          "output_type": "stream",
          "name": "stdout",
          "text": [
            "Тверской район: 480\n",
            "район Хамовники: 386\n",
            "Пресненский район: 349\n",
            "Басманный район: 343\n",
            "район Замоскворечье: 308\n",
            "Мещанский район: 228\n",
            "Таганский район: 212\n",
            "район Якиманка: 201\n",
            "район Арбат: 184\n",
            "Красносельский район: 142\n",
            "район Дорогомилово: 92\n",
            "Донской район: 51\n",
            "Даниловский район: 47\n",
            "район Беговой: 35\n",
            "район Марьина Роща: 18\n",
            "Южнопортовый район: 6\n",
            "Гагаринский район: 4\n",
            "Хорошёвский район: 4\n",
            "район Марьино: 4\n",
            "район Проспект Вернадского: 2\n",
            "район Лефортово: 1\n"
          ]
        }
      ]
    },
    {
      "cell_type": "markdown",
      "source": [
        "https://stepik.org/lesson/518491/step/18?unit=510939"
      ],
      "metadata": {
        "id": "4nXuflYvldx9"
      }
    },
    {
      "cell_type": "code",
      "source": [
        "!wget -q https://stepik.org/media/attachments/lesson/518491/titanic.csv"
      ],
      "metadata": {
        "id": "Dg9t4UILliSB"
      },
      "execution_count": null,
      "outputs": []
    },
    {
      "cell_type": "code",
      "source": [
        "import pandas as pd\n",
        "df = pd.read_csv('titanic.csv', sep=';', ).reset_index().query('age < 18 & survived == 1').sort_values(by='sex', ascending=False, kind='stable')['name'].to_list()\n",
        "print(*df[:5], sep='\\n')"
      ],
      "metadata": {
        "colab": {
          "base_uri": "https://localhost:8080/"
        },
        "id": "iFaiHfUylwMK",
        "outputId": "1e4ab5b9-2429-48ca-de91-3ce544cd388b"
      },
      "execution_count": null,
      "outputs": [
        {
          "output_type": "stream",
          "name": "stdout",
          "text": [
            "Master. Gerios Moubarek\n",
            "Master. Alden Gates Caldwell\n",
            "Master. Elias Nicola-Yarred\n",
            "Master. Frank John William Goldsmith\n",
            "Master. Richard F Becker\n"
          ]
        }
      ]
    },
    {
      "cell_type": "markdown",
      "source": [
        "https://stepik.org/lesson/518491/step/19?unit=510939"
      ],
      "metadata": {
        "id": "tsMSRFMesR0F"
      }
    },
    {
      "cell_type": "code",
      "source": [
        "!wget -q https://stepik.org/media/attachments/lesson/518491/name_log.csv"
      ],
      "metadata": {
        "id": "V-22ne1VoA8P"
      },
      "execution_count": null,
      "outputs": []
    },
    {
      "cell_type": "code",
      "source": [
        "import csv\n",
        "from datetime import datetime as dt\n",
        "\n",
        "#читаем файл\n",
        "with open('name_log.csv', encoding='utf-8') as f:\n",
        "    reader = csv.reader(f, delimiter=',')\n",
        "    data = list(reader)\n",
        "    columns = data[0] #сохраняем заголовки колонок для дальнейшего использования\n",
        "\n",
        "    data = [[i[1], i[0], dt.strptime(i[2], '%d/%m/%Y %H:%M')] for i in data[1:]] # преобразуем строку в дату, для дальнейшей сортировки\n",
        "\n",
        "d = dict() # словарь для группировки пользователей по email\n",
        "\n",
        "for row in data[1:]:\n",
        "  d[row[0]] = d.get(row[0], []) + [(row[1], row[2])] # в качестве ключа возьмем email и сохраним всю инфорамцию о пользовате в tuple'ы\n",
        "\n",
        "for k, v in d.items():\n",
        "  d[k] = sorted(v, key=lambda x: x[1])[-1] # возьмеме для каждого пользователя только последние по дате записи\n",
        "\n",
        "# пишем все в новый файл\n",
        "with open('new_name_log.csv', 'w', encoding='utf-8', newline='') as file:\n",
        "  writer = csv.writer(file)\n",
        "  writer.writerow(columns)\n",
        "  for k, v in sorted(d.items(), key=lambda x: x[0]):\n",
        "    writer.writerow([v[0], k, v[1].strftime(\"%d/%m/%Y %H:%M\")])"
      ],
      "metadata": {
        "id": "eRDN3cx-sfZK"
      },
      "execution_count": null,
      "outputs": []
    },
    {
      "cell_type": "markdown",
      "source": [
        "https://stepik.org/lesson/518491/step/20?unit=510939"
      ],
      "metadata": {
        "id": "qP6bSgtRDZk-"
      }
    },
    {
      "cell_type": "code",
      "source": [
        "from collections import defaultdict, OrderedDict\n",
        "import csv"
      ],
      "metadata": {
        "id": "ODbeLj5RQ3nl"
      },
      "execution_count": null,
      "outputs": []
    },
    {
      "cell_type": "code",
      "source": [
        "def condense_csv(fname='untitiled', id_name='ID'):\n",
        "\n",
        "  with open('untitled', encoding='utf-8') as f:\n",
        "    data = f.read().split('\\n')\n",
        "\n",
        "  data = [_.split(',') for _ in data]\n",
        "\n",
        "  d = defaultdict(list)\n",
        "  for row in data:\n",
        "    d[row[0]].append(row[1:])\n",
        "\n",
        "  d1 = dict()\n",
        "  for k, v in d.items():\n",
        "    d1[k] = OrderedDict({id_name: k})\n",
        "    d1[k].update({i[0]: i[1] for i in v})\n",
        "\n",
        "  with open('condensed.csv', 'w', encoding='utf-8', newline='') as file:\n",
        "    writer = csv.DictWriter(file, fieldnames=d1[k].keys(), delimiter=',')\n",
        "    writer.writeheader()                 # запись заголовков\n",
        "    for row in d1.values():                     # запись строк\n",
        "        writer.writerow(row)"
      ],
      "metadata": {
        "id": "oOFDJ8lAQ4_9"
      },
      "execution_count": null,
      "outputs": []
    },
    {
      "cell_type": "markdown",
      "source": [
        "https://stepik.org/lesson/518491/step/21?unit=510939"
      ],
      "metadata": {
        "id": "t_GwbJubT_xY"
      }
    },
    {
      "cell_type": "code",
      "source": [
        "!wget https://stepik.org/media/attachments/lesson/518491/student_counts.csv -q"
      ],
      "metadata": {
        "id": "z73dykRDRdcH"
      },
      "execution_count": null,
      "outputs": []
    },
    {
      "cell_type": "code",
      "source": [
        "import pandas as pd\n",
        "df = pd.read_csv('student_counts.csv', sep=',', index_col='year')\n",
        "df = df.reindex(sorted(df.columns, key=lambda x: (len(x), x)), axis=1)\n",
        "df.to_csv('sorted_students.csv')"
      ],
      "metadata": {
        "id": "PRga5StNU9ik"
      },
      "execution_count": null,
      "outputs": []
    },
    {
      "cell_type": "markdown",
      "source": [
        "https://stepik.org/lesson/518491/step/22?unit=510939"
      ],
      "metadata": {
        "id": "jBEJOAVFakVq"
      }
    },
    {
      "cell_type": "code",
      "source": [
        "!wget https://stepik.org/media/attachments/lesson/518491/prices.csv -q"
      ],
      "metadata": {
        "id": "2XYvkc9Rbp_G"
      },
      "execution_count": null,
      "outputs": []
    },
    {
      "cell_type": "code",
      "source": [
        "import csv\n",
        "\n",
        "with open('prices.csv', encoding='utf-8') as f:\n",
        "    reader = csv.DictReader(f, delimiter=';')\n",
        "    data = list(reader)\n",
        "\n",
        "d = dict()\n",
        "\n",
        "for row in data:\n",
        "    store = list(row.items())[0][1]\n",
        "    row_min_value = sorted(list(row.items())[1:], key = lambda x: int(x[1]) )[0] # это будет название (продукта, цена)\n",
        "    d[store] = row_min_value\n",
        "\n",
        "store_min = sorted(d, key=lambda x: (d[x][1], d[x][0]))[0]\n",
        "print(f'{d[store_min][0]}: {store_min}')"
      ],
      "metadata": {
        "colab": {
          "base_uri": "https://localhost:8080/"
        },
        "id": "YT0z7eBzc-1h",
        "outputId": "1aa1eb2e-8ddb-40fa-f17b-f9bb8eb1542f"
      },
      "execution_count": null,
      "outputs": [
        {
          "output_type": "stream",
          "name": "stdout",
          "text": [
            "Вареники: Дикси\n"
          ]
        }
      ]
    },
    {
      "cell_type": "code",
      "source": [
        "!curl -s https://stepik.org/media/attachments/lesson/518491/clue_hungry_student.txt"
      ],
      "metadata": {
        "colab": {
          "base_uri": "https://localhost:8080/"
        },
        "id": "L97MvSKDlAhX",
        "outputId": "03305926-c97e-40dd-964d-78ae7cfd609c"
      },
      "execution_count": null,
      "outputs": [
        {
          "output_type": "stream",
          "name": "stdout",
          "text": [
            "Вареники: Дикси"
          ]
        }
      ]
    },
    {
      "cell_type": "markdown",
      "source": [
        "# 4.4 Работа с json файлами. Часть 2"
      ],
      "metadata": {
        "id": "KxQAcHOG3p1C"
      }
    },
    {
      "cell_type": "markdown",
      "source": [
        "https://stepik.org/lesson/623073/step/1?unit=618703"
      ],
      "metadata": {
        "id": "WY2gKTQ63xPA"
      }
    },
    {
      "cell_type": "code",
      "source": [
        "import json\n",
        "\n",
        "countries = {'Monaco': 'Monaco', 'Iceland': 'Reykjavik', 'Kenya': 'Nairobi', 'Kazakhstan': 'Nur-Sultan',\n",
        "             'Mali': 'Bamako', 'Colombia': 'Bogota', 'Finland': 'Helsinki', 'Costa Rica': 'San Jose',\n",
        "             'Cuba': 'Havana', 'France': 'Paris', 'Gabon': 'Libreville', 'Liberia': 'Monrovia',\n",
        "             'Angola': 'Luanda', 'India': 'New Delhi', 'Canada': 'Ottawa', 'Australia': 'Canberra'}\n",
        "print(json.dumps(countries, separators=(',', ' - '), sort_keys=True, indent=3))"
      ],
      "metadata": {
        "colab": {
          "base_uri": "https://localhost:8080/"
        },
        "id": "hV2_jFTsqOVF",
        "outputId": "25d6f1e4-ca97-4817-fe92-525b87c73c2a"
      },
      "execution_count": null,
      "outputs": [
        {
          "output_type": "stream",
          "name": "stdout",
          "text": [
            "{\n",
            "   \"Angola\" - \"Luanda\",\n",
            "   \"Australia\" - \"Canberra\",\n",
            "   \"Canada\" - \"Ottawa\",\n",
            "   \"Colombia\" - \"Bogota\",\n",
            "   \"Costa Rica\" - \"San Jose\",\n",
            "   \"Cuba\" - \"Havana\",\n",
            "   \"Finland\" - \"Helsinki\",\n",
            "   \"France\" - \"Paris\",\n",
            "   \"Gabon\" - \"Libreville\",\n",
            "   \"Iceland\" - \"Reykjavik\",\n",
            "   \"India\" - \"New Delhi\",\n",
            "   \"Kazakhstan\" - \"Nur-Sultan\",\n",
            "   \"Kenya\" - \"Nairobi\",\n",
            "   \"Liberia\" - \"Monrovia\",\n",
            "   \"Mali\" - \"Bamako\",\n",
            "   \"Monaco\" - \"Monaco\"\n",
            "}\n"
          ]
        }
      ]
    },
    {
      "cell_type": "markdown",
      "source": [
        "https://stepik.org/lesson/623073/step/2?unit=618703"
      ],
      "metadata": {
        "id": "bi-Tuw6-6aHM"
      }
    },
    {
      "cell_type": "code",
      "source": [
        "import json\n",
        "\n",
        "words = {\n",
        "         frozenset([\"tap\", \"telephone\"]): (\"tæp\", \"telifəun\"),\n",
        "         \"travel\": \"trævl\",\n",
        "         (\"hello\", \"world\"): (\"həˈləʊ\", \"wɜːld\"),\n",
        "         \"moonlight\": \"muːn.laɪt\",\n",
        "         \"sunshine\": \"ˈsʌn.ʃaɪn\",\n",
        "         (\"why\", \"is\", \"so\", \"difficult\"): (\"waɪ\", \"ɪz\", \"səʊ\", \"ˈdɪfɪkəlt\"),\n",
        "         \"adventure\": \"ədˈventʃər\",\n",
        "         \"beautiful\": \"ˈbjuːtɪfl\",\n",
        "         frozenset([\"spoon\", \"block\"]): (\"spu:n\", \"blɔk\"),\n",
        "         \"bicycle\": \"baisikl\",\n",
        "         (\"pilot\", \"fly\"): (\"pailət\", \"flai\")\n",
        "        }\n",
        "\n",
        "data_json = json.dumps(words, skipkeys=True)\n",
        "print(data_json)"
      ],
      "metadata": {
        "id": "nc4l4UXX2exL",
        "outputId": "e09602e0-9f63-4a80-9bd5-904bffc1093c",
        "colab": {
          "base_uri": "https://localhost:8080/"
        }
      },
      "execution_count": null,
      "outputs": [
        {
          "output_type": "stream",
          "name": "stdout",
          "text": [
            "{\"travel\": \"tr\\u00e6vl\", \"moonlight\": \"mu\\u02d0n.la\\u026at\", \"sunshine\": \"\\u02c8s\\u028cn.\\u0283a\\u026an\", \"adventure\": \"\\u0259d\\u02c8vent\\u0283\\u0259r\", \"beautiful\": \"\\u02c8bju\\u02d0t\\u026afl\", \"bicycle\": \"baisikl\"}\n"
          ]
        }
      ]
    },
    {
      "cell_type": "markdown",
      "source": [
        "https://stepik.org/lesson/623073/step/3?unit=618703"
      ],
      "metadata": {
        "id": "HuL2s-la7D6H"
      }
    },
    {
      "cell_type": "code",
      "source": [
        "import json\n",
        "\n",
        "club1 = {\"name\": \"FC Byern Munchen\", \"country\": \"Germany\", \"founded\": 1900,\n",
        "         \"trainer\": \"Julian Nagelsmann\", \"goalkeeper\": \"M. Neuer\", \"league_position\": 1}\n",
        "\n",
        "club2 = {\"name\": \"FC Barcelona\", \"country\": \"Spain\", \"founded\": 1899,\n",
        "         \"trainer\": \"Xavier Creus\", \"goalkeeper\": \"M. Ter Stegen\", \"league_position\": 7}\n",
        "\n",
        "club3 = {\"name\": \"FC Manchester United\", \"country\": \"England\", \"founded\": 1878,\n",
        "         \"trainer\": \"Michael Carrick\", \"goalkeeper\": \"D. De Gea\", \"league_position\": 8}\n",
        "\n",
        "clubs = [club1, club2, club3]\n",
        "\n",
        "print(json.dumps(clubs, indent=3), file=open('clubs.json', 'w'))"
      ],
      "metadata": {
        "id": "9d1hLPDz6qq9"
      },
      "execution_count": null,
      "outputs": []
    },
    {
      "cell_type": "markdown",
      "source": [
        "https://stepik.org/lesson/623073/step/4?unit=618703"
      ],
      "metadata": {
        "id": "dAN-8JKf86u9"
      }
    },
    {
      "cell_type": "code",
      "source": [
        "import json\n",
        "\n",
        "specs = {\n",
        "         'Модель': 'AMD Ryzen 5 5600G',\n",
        "         'Год релиза': 2021,\n",
        "         'Сокет': 'AM4',\n",
        "         'Техпроцесс': '7 нм',\n",
        "         'Ядро': 'Cezanne',\n",
        "         'Объем кэша L2': '3 МБ',\n",
        "         'Объем кэша L3': '16 МБ',\n",
        "         'Базовая частота': '3900 МГц'\n",
        "        }\n",
        "\n",
        "specs_json = json.dumps(specs, indent=3, ensure_ascii=False)\n",
        "\n",
        "print(specs_json)"
      ],
      "metadata": {
        "id": "lKYaSfJ-8W2j",
        "outputId": "86071519-64f3-4c96-a9b0-311cecf021d1",
        "colab": {
          "base_uri": "https://localhost:8080/"
        }
      },
      "execution_count": null,
      "outputs": [
        {
          "output_type": "stream",
          "name": "stdout",
          "text": [
            "{\n",
            "   \"Модель\": \"AMD Ryzen 5 5600G\",\n",
            "   \"Год релиза\": 2021,\n",
            "   \"Сокет\": \"AM4\",\n",
            "   \"Техпроцесс\": \"7 нм\",\n",
            "   \"Ядро\": \"Cezanne\",\n",
            "   \"Объем кэша L2\": \"3 МБ\",\n",
            "   \"Объем кэша L3\": \"16 МБ\",\n",
            "   \"Базовая частота\": \"3900 МГц\"\n",
            "}\n"
          ]
        }
      ]
    },
    {
      "cell_type": "markdown",
      "source": [
        "https://stepik.org/lesson/623073/step/5?unit=618703"
      ],
      "metadata": {
        "id": "8x3Yk6mT9mhy"
      }
    },
    {
      "cell_type": "code",
      "source": [
        "import json\n",
        "\n",
        "def is_correct_json(s: str):\n",
        "  try:\n",
        "    json.loads(s)\n",
        "  except ValueError:\n",
        "    return False\n",
        "  return True"
      ],
      "metadata": {
        "id": "phBuwwOE88Ov"
      },
      "execution_count": null,
      "outputs": []
    },
    {
      "cell_type": "markdown",
      "source": [
        "https://stepik.org/lesson/623073/step/6?unit=618703"
      ],
      "metadata": {
        "id": "Wboiobgk-WAW"
      }
    },
    {
      "cell_type": "code",
      "source": [
        "import json, sys\n",
        "\n",
        "data = json.load(sys.stdin)\n",
        "for k, v in data.items():\n",
        "    if type(v) in (list, set, tuple):\n",
        "        v = \", \".join(list(map(str, v)))\n",
        "    print(f'{k}: {v}')"
      ],
      "metadata": {
        "id": "ticftGcq9uSu"
      },
      "execution_count": null,
      "outputs": []
    },
    {
      "cell_type": "markdown",
      "source": [
        "https://stepik.org/lesson/623073/step/7?unit=618703"
      ],
      "metadata": {
        "id": "0f6_Wds8In8a"
      }
    },
    {
      "cell_type": "code",
      "source": [
        "!wget https://stepik.org/media/attachments/lesson/623073/data.json -q"
      ],
      "metadata": {
        "id": "OKMtqdCh4hZl"
      },
      "execution_count": 24,
      "outputs": []
    },
    {
      "cell_type": "code",
      "source": [
        "import json\n",
        "\n",
        "j = json.load(open('data.json', 'r'))\n",
        "\n",
        "def transform(l:list):\n",
        "  result = []\n",
        "  for el in l:\n",
        "    match el:\n",
        "      case None:\n",
        "        continue\n",
        "      case bool():\n",
        "        el = not el\n",
        "      case str():\n",
        "        el = el + '!'\n",
        "      case list():\n",
        "        el = el * 2\n",
        "      case int():\n",
        "        el = el + 1\n",
        "      case dict():\n",
        "       el[\"newkey\"] =  None\n",
        "    result.append(el)\n",
        "  return result\n",
        "\n",
        "json.dump(transform(j), open('updated_data.json', 'w'), indent=3)"
      ],
      "metadata": {
        "id": "FUe05SvpKX_T"
      },
      "execution_count": 44,
      "outputs": []
    },
    {
      "cell_type": "markdown",
      "source": [
        "https://stepik.org/lesson/623073/step/8?unit=618703"
      ],
      "metadata": {
        "id": "Tuq31Ve5UXUu"
      }
    },
    {
      "cell_type": "code",
      "source": [
        "!wget https://stepik.org/media/attachments/lesson/623073/data1.json -q\n",
        "!wget https://stepik.org/media/attachments/lesson/623073/data2.json -q\n",
        "!wget https://stepik.org/media/attachments/lesson/623073/clue_data_merge.txt -q"
      ],
      "metadata": {
        "id": "9ok4TldvVaQD"
      },
      "execution_count": 59,
      "outputs": []
    },
    {
      "cell_type": "code",
      "source": [
        "import json\n",
        "\n",
        "with open('data1.json', 'r') as f1, open('data2.json', 'r') as f2:\n",
        "    data1 = json.load(f1)\n",
        "    data2 = json.load(f2)\n",
        "data1.update(data2)\n",
        "json.dump(data1, open('data_merge.json', 'w'), indent=3)"
      ],
      "metadata": {
        "id": "MIrRi3yUUXl3"
      },
      "execution_count": 60,
      "outputs": []
    },
    {
      "cell_type": "markdown",
      "source": [
        "https://stepik.org/lesson/623073/step/9?unit=618703"
      ],
      "metadata": {
        "id": "WnqR6LmuZYii"
      }
    },
    {
      "cell_type": "code",
      "source": [
        "!wget https://stepik.org/media/attachments/lesson/623073/people.json -q"
      ],
      "metadata": {
        "id": "gRUzp_o8ZYOV"
      },
      "execution_count": 61,
      "outputs": []
    },
    {
      "cell_type": "code",
      "source": [
        "import json\n",
        "\n",
        "data = json.load(open('people.json', 'r'))\n",
        "\n",
        "d = dict()\n",
        "for l in data:\n",
        "  for k in l.keys():\n",
        "    d[k] = None\n",
        "for i in range(len(data)):\n",
        "  d_new = d.copy()\n",
        "  d_new.update(data[i])\n",
        "  data[i] = d_new\n",
        "json.dump(data, open('updated_people.json', 'w'), indent=3)"
      ],
      "metadata": {
        "id": "PLYZ8x1PZkeG"
      },
      "execution_count": 76,
      "outputs": []
    }
  ]
}