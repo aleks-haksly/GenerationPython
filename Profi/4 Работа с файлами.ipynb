{
  "nbformat": 4,
  "nbformat_minor": 0,
  "metadata": {
    "colab": {
      "provenance": [],
      "authorship_tag": "ABX9TyOj0M8MTNOBDSbmwMOBNHwR",
      "include_colab_link": true
    },
    "kernelspec": {
      "name": "python3",
      "display_name": "Python 3"
    },
    "language_info": {
      "name": "python"
    }
  },
  "cells": [
    {
      "cell_type": "markdown",
      "metadata": {
        "id": "view-in-github",
        "colab_type": "text"
      },
      "source": [
        "<a href=\"https://colab.research.google.com/github/aleks-haksly/GenerationPython/blob/main/Profi/4%20%D0%A0%D0%B0%D0%B1%D0%BE%D1%82%D0%B0%20%D1%81%20%D1%84%D0%B0%D0%B9%D0%BB%D0%B0%D0%BC%D0%B8.ipynb\" target=\"_parent\"><img src=\"https://colab.research.google.com/assets/colab-badge.svg\" alt=\"Open In Colab\"/></a>"
      ]
    },
    {
      "cell_type": "markdown",
      "source": [
        "## 4.1 Потоковый ввод stdin и вывод stdout\n",
        "https://stepik.org/lesson/520159/step/10?unit=512678"
      ],
      "metadata": {
        "id": "ChOdik9-LT2h"
      }
    },
    {
      "cell_type": "code",
      "source": [
        "import sys\n",
        "a = [_.strip()[::-1] for _ in sys.stdin]\n",
        "if a: print(*a, sep = '\\n')"
      ],
      "metadata": {
        "id": "WGbIEwcrLe8i"
      },
      "execution_count": null,
      "outputs": []
    },
    {
      "cell_type": "markdown",
      "source": [
        "https://stepik.org/lesson/520159/step/11?unit=512678"
      ],
      "metadata": {
        "id": "_c_9vj5SN_wv"
      }
    },
    {
      "cell_type": "code",
      "source": [
        "from datetime import date\n",
        "import sys\n",
        "dates = [date.fromisoformat(_.strip()) for _ in sys.stdin]\n",
        "print((max(dates) - min(dates)).days)"
      ],
      "metadata": {
        "id": "9pkxkIdvOJU8"
      },
      "execution_count": null,
      "outputs": []
    },
    {
      "cell_type": "markdown",
      "source": [
        "https://stepik.org/lesson/520159/step/12?unit=512678"
      ],
      "metadata": {
        "id": "zyW334USOSeH"
      }
    },
    {
      "cell_type": "code",
      "source": [
        "import sys\n",
        "for i, n in enumerate(sys.stdin):\n",
        "    n = int(n) % 2\n",
        "    i = i % 2\n",
        "print(sorted(['Анри', 'Дима'], reverse=i)[n])"
      ],
      "metadata": {
        "id": "1s7V1KJhONOY"
      },
      "execution_count": null,
      "outputs": []
    },
    {
      "cell_type": "markdown",
      "source": [
        "https://stepik.org/lesson/520159/step/13?unit=512678"
      ],
      "metadata": {
        "id": "vH3Owk7yOWNh"
      }
    },
    {
      "cell_type": "code",
      "source": [
        "import sys\n",
        "import numpy as np\n",
        "h = [int(_) for _ in sys.stdin]\n",
        "if h:\n",
        "    print(f'Рост самого низкого ученика: {min(h)}')\n",
        "    print(f'Рост самого высокого ученика: {max(h)}')\n",
        "    print(f'Средний рост: {np.mean(h)}')\n",
        "else: print('нет учеников')"
      ],
      "metadata": {
        "id": "CEoaFmHzOXsS"
      },
      "execution_count": null,
      "outputs": []
    },
    {
      "cell_type": "markdown",
      "source": [
        "https://stepik.org/lesson/520159/step/14?unit=512678"
      ],
      "metadata": {
        "id": "huLmn4j3OdHi"
      }
    },
    {
      "cell_type": "code",
      "source": [
        "# put your python code here\n",
        "import sys\n",
        "n = 0\n",
        "for _ in sys.stdin:\n",
        "    if _.strip().startswith('#'):\n",
        "        n += 1\n",
        "print(n)"
      ],
      "metadata": {
        "id": "NG_UV5rxOgiM",
        "outputId": "097a5fd2-35e4-4415-a463-f50b9de63f77",
        "colab": {
          "base_uri": "https://localhost:8080/"
        }
      },
      "execution_count": 1,
      "outputs": [
        {
          "output_type": "stream",
          "name": "stdout",
          "text": [
            "0\n"
          ]
        }
      ]
    },
    {
      "cell_type": "markdown",
      "source": [
        "https://stepik.org/lesson/520159/step/15?unit=512678"
      ],
      "metadata": {
        "id": "rB9it-63OrsN"
      }
    },
    {
      "cell_type": "code",
      "source": [
        "import sys\n",
        "for s in sys.stdin:\n",
        "    if s.strip().startswith('#'):\n",
        "        continue\n",
        "    print(s, end = '')"
      ],
      "metadata": {
        "id": "IsvP7hFGOj1X"
      },
      "execution_count": null,
      "outputs": []
    },
    {
      "cell_type": "markdown",
      "source": [
        "https://stepik.org/lesson/520159/step/16?unit=512678"
      ],
      "metadata": {
        "id": "uexoMY-qOvSn"
      }
    },
    {
      "cell_type": "code",
      "source": [
        "import sys\n",
        "news = {}\n",
        "for _ in sys.stdin:\n",
        "    n = _.strip().split('/')\n",
        "    if len(n) > 1:\n",
        "        news.setdefault(n[1].strip(), []).append((n[2].strip(), n[0].strip()))\n",
        "for news_type in sorted(news.get(*n)):\n",
        "    print(news_type[1])"
      ],
      "metadata": {
        "id": "6ZwxJesqO4Om"
      },
      "execution_count": null,
      "outputs": []
    },
    {
      "cell_type": "markdown",
      "source": [
        "https://stepik.org/lesson/520159/step/17?unit=512678"
      ],
      "metadata": {
        "id": "uGmqsG0NO8hF"
      }
    },
    {
      "cell_type": "code",
      "source": [
        "import sys\n",
        "from dateutil.parser import parse\n",
        "ascending = True\n",
        "descending = True\n",
        "last_date = None\n",
        "for d in sys.stdin:\n",
        "    d = parse(d, dayfirst=True)\n",
        "    if not (ascending or descending):\n",
        "        break\n",
        "    if last_date:\n",
        "        if last_date > d:\n",
        "            ascending = False\n",
        "        elif last_date < d:\n",
        "            descending = False\n",
        "        else:\n",
        "            descending = False\n",
        "            ascending = False\n",
        "            break\n",
        "    last_date = d\n",
        "print('MIX' if not(ascending or descending) else 'ASC' if ascending else 'DESC')"
      ],
      "metadata": {
        "id": "St6QqriLO-4E"
      },
      "execution_count": null,
      "outputs": []
    },
    {
      "cell_type": "markdown",
      "source": [
        "https://stepik.org/lesson/520159/step/18?unit=512678"
      ],
      "metadata": {
        "id": "tYvpRmCJPCwv"
      }
    },
    {
      "cell_type": "code",
      "source": [
        "import sys\n",
        "a_progression = True\n",
        "g_progression = True\n",
        "a_delta = None\n",
        "previous = None\n",
        "g_delta = None\n",
        "for n in sys.stdin:\n",
        "    n = int(n)\n",
        "    if not (a_progression or g_progression): break\n",
        "    if previous:\n",
        "        if a_delta:\n",
        "            new_a_delta = n - previous\n",
        "            if new_a_delta != a_delta:\n",
        "                a_progression = False\n",
        "        else: a_delta = n - previous\n",
        "        if g_delta:\n",
        "            new_g_delta = n / previous\n",
        "            if new_g_delta != g_delta:\n",
        "                g_progression = False\n",
        "        else: g_delta = n / previous\n",
        "    previous = n\n",
        "print('Не прогрессия' if not(a_progression or g_progression) else 'Арифметическая прогрессия' if a_progression else 'Геометрическая прогрессия')"
      ],
      "metadata": {
        "id": "GGNsASFfPEzN"
      },
      "execution_count": null,
      "outputs": []
    }
  ]
}